{
 "cells": [
  {
   "cell_type": "code",
   "execution_count": 0,
   "metadata": {
    "collapsed": false
   },
   "outputs": [
   ],
   "source": [
   ]
  },
  {
   "cell_type": "code",
   "execution_count": 4,
   "metadata": {
    "collapsed": false
   },
   "outputs": [
   ],
   "source": [
    "import pandas as pd\n",
    "import matplotlib.pyplot as plt\n",
    "import seaborn as sns\n",
    "import numpy as np\n",
    "from scipy.stats import chi2_contingency, ttest_ind\n",
    "from scipy.stats.contingency import association\n",
    "\n",
    "%matplotlib inline"
   ]
  },
  {
   "cell_type": "code",
   "execution_count": 5,
   "metadata": {
    "collapsed": false
   },
   "outputs": [
   ],
   "source": [
    "# pip install openpyxl"
   ]
  },
  {
   "cell_type": "markdown",
   "metadata": {
    "collapsed": false
   },
   "source": [
    "<h2> Data Frames\n",
    "     \n"
   ]
  },
  {
   "cell_type": "markdown",
   "metadata": {
    "collapsed": false
   },
   "source": [
    "\n",
    "df_final_demo: Client Profiles\n",
    "df_final_experiement_clients = Experiment Roster (clients who participated on experiment)\n",
    "\n",
    "df_pt1 and df_pt2 : web data initial files raw\n",
    "df_final_web_data: concat df_pt1,df_pt2 web data\n",
    "\n",
    "df_final_demo : Client Profiles\n",
    "client_information_experiment = merge of df_final_demo and  df_final_experiement_clients (information of clients, participated or not in the experiment)\n",
    "\n",
    "web_data_summary: no_of_visits, is_confirmed, duration, had_error, error_count no_of_confirms\n",
    "web_data_summary_experiment = merge of web_data_summary and df_final_experiement_clients (web data summary and participation or not in the experiment)"
   ]
  },
  {
   "cell_type": "code",
   "execution_count": 6,
   "metadata": {
    "collapsed": false
   },
   "outputs": [
   ],
   "source": [
    "# new version\n",
    "df_final_demo = pd.read_csv('df_final_demo.txt')\n",
    "df_pt1 = pd.read_csv('df_final_web_data_pt_1.txt', parse_dates=['date_time'])\n",
    "df_pt2 = pd.read_csv('df_final_web_data_pt_2.txt', parse_dates=['date_time'])\n",
    "df_final_experiement_clients = pd.read_csv('df_final_experiment_clients.txt')\n",
    "df_final_web_data = pd.concat([df_pt1,df_pt2])\n",
    "\n",
    "#old version\n",
    "# cp = pd.read_csv(\"df_final_demo.txt\")\n",
    "# dfp1 = pd.read_csv(\"df_final_web_data_pt_1.txt\")\n",
    "# df_pt2 = pd.read_csv(\"df_final_web_data_pt_2.txt\")\n",
    "#dfp = concat of dfp1 and dfp2\n",
    "#dfp_c = concat of dfp1 and dfp2 without duplicates\n",
    "\n",
    "# exc = pd.read_csv(\"df_final_experiment_clients.txt\")\n",
    "\n",
    "\n"
   ]
  },
  {
   "cell_type": "code",
   "execution_count": 60,
   "metadata": {
    "collapsed": false
   },
   "outputs": [
    {
     "data": {
      "text/html": [
       "<div>\n",
       "<style scoped>\n",
       "    .dataframe tbody tr th:only-of-type {\n",
       "        vertical-align: middle;\n",
       "    }\n",
       "\n",
       "    .dataframe tbody tr th {\n",
       "        vertical-align: top;\n",
       "    }\n",
       "\n",
       "    .dataframe thead th {\n",
       "        text-align: right;\n",
       "    }\n",
       "</style>\n",
       "<table border=\"1\" class=\"dataframe\">\n",
       "  <thead>\n",
       "    <tr style=\"text-align: right;\">\n",
       "      <th></th>\n",
       "      <th>client_id</th>\n",
       "      <th>clnt_tenure_yr</th>\n",
       "      <th>clnt_tenure_mnth</th>\n",
       "      <th>clnt_age</th>\n",
       "      <th>gendr</th>\n",
       "      <th>num_accts</th>\n",
       "      <th>bal</th>\n",
       "      <th>calls_6_mnth</th>\n",
       "      <th>logons_6_mnth</th>\n",
       "      <th>age_category</th>\n",
       "    </tr>\n",
       "  </thead>\n",
       "  <tbody>\n",
       "    <tr>\n",
       "      <th>0</th>\n",
       "      <td>836976</td>\n",
       "      <td>6.0</td>\n",
       "      <td>73.0</td>\n",
       "      <td>60.5</td>\n",
       "      <td>U</td>\n",
       "      <td>2.0</td>\n",
       "      <td>45105.30</td>\n",
       "      <td>6.0</td>\n",
       "      <td>9.0</td>\n",
       "      <td>60+</td>\n",
       "    </tr>\n",
       "    <tr>\n",
       "      <th>1</th>\n",
       "      <td>2304905</td>\n",
       "      <td>7.0</td>\n",
       "      <td>94.0</td>\n",
       "      <td>58.0</td>\n",
       "      <td>U</td>\n",
       "      <td>2.0</td>\n",
       "      <td>110860.30</td>\n",
       "      <td>6.0</td>\n",
       "      <td>9.0</td>\n",
       "      <td>30-60</td>\n",
       "    </tr>\n",
       "    <tr>\n",
       "      <th>2</th>\n",
       "      <td>1439522</td>\n",
       "      <td>5.0</td>\n",
       "      <td>64.0</td>\n",
       "      <td>32.0</td>\n",
       "      <td>U</td>\n",
       "      <td>2.0</td>\n",
       "      <td>52467.79</td>\n",
       "      <td>6.0</td>\n",
       "      <td>9.0</td>\n",
       "      <td>30-60</td>\n",
       "    </tr>\n",
       "  </tbody>\n",
       "</table>\n",
       "</div>"
      ],
      "text/plain": [
       "   client_id  clnt_tenure_yr  clnt_tenure_mnth  clnt_age gendr  num_accts  \\\n",
       "0     836976             6.0              73.0      60.5     U        2.0   \n",
       "1    2304905             7.0              94.0      58.0     U        2.0   \n",
       "2    1439522             5.0              64.0      32.0     U        2.0   \n",
       "\n",
       "         bal  calls_6_mnth  logons_6_mnth age_category  \n",
       "0   45105.30           6.0            9.0          60+  \n",
       "1  110860.30           6.0            9.0        30-60  \n",
       "2   52467.79           6.0            9.0        30-60  "
      ]
     },
     "execution_count": 60,
     "metadata": {
     },
     "output_type": "execute_result"
    }
   ],
   "source": [
    "df_final_demo.head(3)"
   ]
  },
  {
   "cell_type": "code",
   "execution_count": 61,
   "metadata": {
    "collapsed": false
   },
   "outputs": [
    {
     "data": {
      "text/html": [
       "<div>\n",
       "<style scoped>\n",
       "    .dataframe tbody tr th:only-of-type {\n",
       "        vertical-align: middle;\n",
       "    }\n",
       "\n",
       "    .dataframe tbody tr th {\n",
       "        vertical-align: top;\n",
       "    }\n",
       "\n",
       "    .dataframe thead th {\n",
       "        text-align: right;\n",
       "    }\n",
       "</style>\n",
       "<table border=\"1\" class=\"dataframe\">\n",
       "  <thead>\n",
       "    <tr style=\"text-align: right;\">\n",
       "      <th></th>\n",
       "      <th>client_id</th>\n",
       "      <th>visitor_id</th>\n",
       "      <th>visit_id</th>\n",
       "      <th>process_step</th>\n",
       "      <th>date_time</th>\n",
       "    </tr>\n",
       "  </thead>\n",
       "  <tbody>\n",
       "    <tr>\n",
       "      <th>0</th>\n",
       "      <td>9988021</td>\n",
       "      <td>580560515_7732621733</td>\n",
       "      <td>781255054_21935453173_531117</td>\n",
       "      <td>step_3</td>\n",
       "      <td>2017-04-17 15:27:07</td>\n",
       "    </tr>\n",
       "    <tr>\n",
       "      <th>1</th>\n",
       "      <td>9988021</td>\n",
       "      <td>580560515_7732621733</td>\n",
       "      <td>781255054_21935453173_531117</td>\n",
       "      <td>step_2</td>\n",
       "      <td>2017-04-17 15:26:51</td>\n",
       "    </tr>\n",
       "    <tr>\n",
       "      <th>2</th>\n",
       "      <td>9988021</td>\n",
       "      <td>580560515_7732621733</td>\n",
       "      <td>781255054_21935453173_531117</td>\n",
       "      <td>step_3</td>\n",
       "      <td>2017-04-17 15:19:22</td>\n",
       "    </tr>\n",
       "  </tbody>\n",
       "</table>\n",
       "</div>"
      ],
      "text/plain": [
       "   client_id            visitor_id                      visit_id process_step  \\\n",
       "0    9988021  580560515_7732621733  781255054_21935453173_531117       step_3   \n",
       "1    9988021  580560515_7732621733  781255054_21935453173_531117       step_2   \n",
       "2    9988021  580560515_7732621733  781255054_21935453173_531117       step_3   \n",
       "\n",
       "            date_time  \n",
       "0 2017-04-17 15:27:07  \n",
       "1 2017-04-17 15:26:51  \n",
       "2 2017-04-17 15:19:22  "
      ]
     },
     "execution_count": 61,
     "metadata": {
     },
     "output_type": "execute_result"
    }
   ],
   "source": [
    "df_pt1.head(3)"
   ]
  },
  {
   "cell_type": "code",
   "execution_count": 62,
   "metadata": {
    "collapsed": false
   },
   "outputs": [
    {
     "data": {
      "text/html": [
       "<div>\n",
       "<style scoped>\n",
       "    .dataframe tbody tr th:only-of-type {\n",
       "        vertical-align: middle;\n",
       "    }\n",
       "\n",
       "    .dataframe tbody tr th {\n",
       "        vertical-align: top;\n",
       "    }\n",
       "\n",
       "    .dataframe thead th {\n",
       "        text-align: right;\n",
       "    }\n",
       "</style>\n",
       "<table border=\"1\" class=\"dataframe\">\n",
       "  <thead>\n",
       "    <tr style=\"text-align: right;\">\n",
       "      <th></th>\n",
       "      <th>client_id</th>\n",
       "      <th>variation</th>\n",
       "    </tr>\n",
       "  </thead>\n",
       "  <tbody>\n",
       "    <tr>\n",
       "      <th>0</th>\n",
       "      <td>9988021</td>\n",
       "      <td>Test</td>\n",
       "    </tr>\n",
       "    <tr>\n",
       "      <th>1</th>\n",
       "      <td>8320017</td>\n",
       "      <td>Test</td>\n",
       "    </tr>\n",
       "    <tr>\n",
       "      <th>2</th>\n",
       "      <td>4033851</td>\n",
       "      <td>Control</td>\n",
       "    </tr>\n",
       "  </tbody>\n",
       "</table>\n",
       "</div>"
      ],
      "text/plain": [
       "   client_id variation\n",
       "0    9988021      Test\n",
       "1    8320017      Test\n",
       "2    4033851   Control"
      ]
     },
     "execution_count": 62,
     "metadata": {
     },
     "output_type": "execute_result"
    }
   ],
   "source": [
    "df_final_experiement_clients.head(3)"
   ]
  },
  {
   "cell_type": "markdown",
   "metadata": {
    "collapsed": false
   },
   "source": [
    " <h2> EDA & Data Cleaning\n",
    "\n"
   ]
  },
  {
   "cell_type": "code",
   "execution_count": 7,
   "metadata": {
    "collapsed": false
   },
   "outputs": [
    {
     "name": "stdout",
     "output_type": "stream",
     "text": [
      "null values in client_id column: 0\n",
      "null values in variant column: 20109\n",
      "column name Variant changed to lower_case\n",
      "Null values dropped for exc dataset\n",
      "null values in client_id column: client_id            0\n",
      "clnt_tenure_yr      14\n",
      "clnt_tenure_mnth    14\n",
      "clnt_age            15\n",
      "gendr               14\n",
      "num_accts           14\n",
      "bal                 14\n",
      "calls_6_mnth        14\n",
      "logons_6_mnth       14\n",
      "dtype: int64\n",
      "Null values dropped for cp dataset\n",
      "Cleaned exc dataset shape: (50500, 2)\n",
      "Cleaned cp dataset shape: (70594, 9)\n"
     ]
    }
   ],
   "source": [
    "# Cleaning up of the datasets cp and exc\n",
    "\n",
    "def clean_exc(data1, data2):\n",
    "     #check if null values in client_id column\n",
    "    print(f\"null values in client_id column: {data1['client_id'].isnull().sum()}\")\n",
    "    # check if any Variation is missing\n",
    "    print(f\"null values in variant column: {data1['Variation'].isnull().sum()}\")\n",
    "    \n",
    "    data1.rename(columns={'Variation':'variation'}, inplace=True)\n",
    "    print(\"column name Variant changed to lower_case\")\n",
    "    exc_c = data1.dropna()\n",
    "    print(\"Null values dropped for exc dataset\")\n",
    "    \n",
    "    #check if null values in cp dataset\n",
    "    print(f\"null values in client_id column: {data2.isnull().sum()}\")\n",
    "    cp_c = data2.dropna()\n",
    "    print(\"Null values dropped for cp dataset\")\n",
    "    \n",
    "    \n",
    "    return exc_c, cp_c\n",
    "\n",
    "\n",
    "\n",
    "data1 = df_final_experiement_clients\n",
    "data2 = df_final_demo\n",
    "df_final_experiement_clients, df_final_demo = clean_exc(data1, data2)\n",
    "    \n",
    "print(\"Cleaned exc dataset shape:\", df_final_experiement_clients.shape)\n",
    "print(\"Cleaned cp dataset shape:\", df_final_demo.shape)"
   ]
  },
  {
   "cell_type": "markdown",
   "metadata": {
    "collapsed": false
   },
   "source": [
    "<h2>Overview of the three datasets used: Client Profiles, Digital Footprints, and Experiment Roster.\n"
   ]
  },
  {
   "cell_type": "code",
   "execution_count": 8,
   "metadata": {
    "collapsed": false
   },
   "outputs": [
    {
     "name": "stdout",
     "output_type": "stream",
     "text": [
      "Data shape: \n",
      "\n",
      "Shape of \"Client Profiles Data\" : 9 columns, 70594 rows\n",
      "Shape of \"Digital Footprints Data\" : 5 columns, 755405 rows\n",
      "Shape of \"Experiment Roster\" : 2 columns, 50500 rows\n",
      "\n",
      " Duplicates:\n",
      "\n"
     ]
    },
    {
     "name": "stdout",
     "output_type": "stream",
     "text": [
      "Number of duplicates in \"Client Profiles Data\" : 0 duplicates\n"
     ]
    },
    {
     "name": "stdout",
     "output_type": "stream",
     "text": [
      "Number of duplicates in \"Digital Footprints Data\" : 10764 duplicates\n",
      "Number of duplicates in \"Experiment Roster\" : 0 duplicates\n",
      "\n",
      "\n",
      "Unique Values \"Client Profiles Data\": \n",
      "  client_id           70594\n",
      "clnt_tenure_yr         54\n",
      "clnt_tenure_mnth      482\n",
      "clnt_age              165\n",
      "gendr                   4\n",
      "num_accts               8\n",
      "bal                 70327\n",
      "calls_6_mnth            8\n",
      "logons_6_mnth           9\n",
      "dtype: int64\n",
      " \n"
     ]
    },
    {
     "name": "stdout",
     "output_type": "stream",
     "text": [
      "Unique Values \"Digital Footprints Data\": \n",
      "  client_id       120157\n",
      "visitor_id      130236\n",
      "visit_id        158095\n",
      "process_step         5\n",
      "date_time       629363\n",
      "dtype: int64\n",
      " \n",
      "Unique Values \"Experiment Roster\": \n",
      "  client_id    50500\n",
      "variation        2\n",
      "dtype: int64\n",
      " \n",
      "Data Type \"Client Profiles Data\": \n",
      "  client_id             int64\n",
      "clnt_tenure_yr      float64\n",
      "clnt_tenure_mnth    float64\n",
      "clnt_age            float64\n",
      "gendr                object\n",
      "num_accts           float64\n",
      "bal                 float64\n",
      "calls_6_mnth        float64\n",
      "logons_6_mnth       float64\n",
      "dtype: object\n",
      " \n",
      "Data Type \"Digital Footprints Data\": \n",
      "  client_id                int64\n",
      "visitor_id              object\n",
      "visit_id                object\n",
      "process_step            object\n",
      "date_time       datetime64[ns]\n",
      "dtype: object\n",
      " \n",
      "Data Type \"Experiment Roster\": \n",
      "  client_id     int64\n",
      "variation    object\n",
      "dtype: object\n",
      " \n"
     ]
    }
   ],
   "source": [
    "data = {'Client Profiles Data': df_final_demo, 'Digital Footprints Data': df_final_web_data, 'Experiment Roster': df_final_experiement_clients}\n",
    "\n",
    "def print_exploratory(data):\n",
    "        '''Defines a fonction that prints exploratory of one or more data frames\n",
    "    Take as paramaters 1 dictionary having as value: name data frames; key: data frame '''\n",
    "        if not isinstance(data, dict):\n",
    "            print(\"The data must be a dictionary\")\n",
    "        else: \n",
    "            print(\"Data shape: \\n\")\n",
    "            for name, d in data.items():\n",
    "                num_rows, num_columns = d.shape\n",
    "                print(f'Shape of \"{name}\" : {num_columns} columns, {num_rows} rows')\n",
    "            print(\"\\n Duplicates:\\n\")\n",
    "            for name, d in data.items():\n",
    "                num_duplicates = d.duplicated().sum()\n",
    "                print(f'Number of duplicates in \"{name}\" : {num_duplicates} duplicates')\n",
    "            print(\"\\n\")\n",
    "            for name, d in data.items():    \n",
    "                unique_v = d.nunique()\n",
    "                print(f'Unique Values \"{name}\": \\n  {unique_v}\\n ')\n",
    "            for name, d in data.items():    \n",
    "                typ = d.dtypes\n",
    "                print(f'Data Type \"{name}\": \\n  {typ}\\n ')\n",
    "\n",
    "print_exploratory(data)"
   ]
  },
  {
   "cell_type": "code",
   "execution_count": 9,
   "metadata": {
    "collapsed": false
   },
   "outputs": [
    {
     "name": "stdout",
     "output_type": "stream",
     "text": [
      "Data shape: \n",
      "\n",
      "Shape of \"Client Profiles Data\" : 9 columns, 70594 rows\n",
      "Shape of \"Digital Footprints Data\" : 5 columns, 755405 rows\n",
      "Shape of \"Experiment Roster\" : 2 columns, 50500 rows\n",
      "\n",
      " Duplicates:\n",
      "\n",
      "Number of duplicates in \"Client Profiles Data\" : 0 duplicates\n"
     ]
    },
    {
     "name": "stdout",
     "output_type": "stream",
     "text": [
      "Number of duplicates in \"Digital Footprints Data\" : 10764 duplicates\n",
      "Number of duplicates in \"Experiment Roster\" : 0 duplicates\n",
      "\n",
      "\n",
      "Unique Values \"Client Profiles Data\": \n",
      "  client_id           70594\n",
      "clnt_tenure_yr         54\n",
      "clnt_tenure_mnth      482\n",
      "clnt_age              165\n",
      "gendr                   4\n",
      "num_accts               8\n",
      "bal                 70327\n",
      "calls_6_mnth            8\n",
      "logons_6_mnth           9\n",
      "dtype: int64\n",
      " \n"
     ]
    },
    {
     "name": "stdout",
     "output_type": "stream",
     "text": [
      "Unique Values \"Digital Footprints Data\": \n",
      "  client_id       120157\n",
      "visitor_id      130236\n",
      "visit_id        158095\n",
      "process_step         5\n",
      "date_time       629363\n",
      "dtype: int64\n",
      " \n",
      "Unique Values \"Experiment Roster\": \n",
      "  client_id    50500\n",
      "variation        2\n",
      "dtype: int64\n",
      " \n",
      "Data Type \"Client Profiles Data\": \n",
      "  client_id             int64\n",
      "clnt_tenure_yr      float64\n",
      "clnt_tenure_mnth    float64\n",
      "clnt_age            float64\n",
      "gendr                object\n",
      "num_accts           float64\n",
      "bal                 float64\n",
      "calls_6_mnth        float64\n",
      "logons_6_mnth       float64\n",
      "dtype: object\n",
      " \n",
      "Data Type \"Digital Footprints Data\": \n",
      "  client_id                int64\n",
      "visitor_id              object\n",
      "visit_id                object\n",
      "process_step            object\n",
      "date_time       datetime64[ns]\n",
      "dtype: object\n",
      " \n",
      "Data Type \"Experiment Roster\": \n",
      "  client_id     int64\n",
      "variation    object\n",
      "dtype: object\n",
      " \n"
     ]
    }
   ],
   "source": [
    "def print_exploratory(data):\n",
    "        '''Defines a fonction that prints exploratory of one or more data frames\n",
    "    Take as paramaters 1 dictionary having as value: name data frames; key: data frame '''\n",
    "        if not isinstance(data, dict):\n",
    "            print(\"The data must be a dictionary\")\n",
    "        else: \n",
    "            print(\"Data shape: \\n\")\n",
    "            for name, d in data.items():\n",
    "                num_rows, num_columns = d.shape\n",
    "                print(f'Shape of \"{name}\" : {num_columns} columns, {num_rows} rows')\n",
    "            print(\"\\n Duplicates:\\n\")\n",
    "            for name, d in data.items():\n",
    "                num_duplicates = d.duplicated().sum()\n",
    "                print(f'Number of duplicates in \"{name}\" : {num_duplicates} duplicates')\n",
    "            print(\"\\n\")\n",
    "            for name, d in data.items():    \n",
    "                unique_v = d.nunique()\n",
    "                print(f'Unique Values \"{name}\": \\n  {unique_v}\\n ')\n",
    "            for name, d in data.items():    \n",
    "                typ = d.dtypes\n",
    "                print(f'Data Type \"{name}\": \\n  {typ}\\n ')\n",
    "\n",
    "print_exploratory(data)"
   ]
  },
  {
   "cell_type": "code",
   "execution_count": 10,
   "metadata": {
    "collapsed": false
   },
   "outputs": [
    {
     "name": "stdout",
     "output_type": "stream",
     "text": [
      "   client_id  clnt_tenure_yr  clnt_tenure_mnth  clnt_age gendr  num_accts  \\\n",
      "0     836976             6.0              73.0      60.5     U        2.0   \n",
      "1    2304905             7.0              94.0      58.0     U        2.0   \n",
      "2    1439522             5.0              64.0      32.0     U        2.0   \n",
      "3    1562045            16.0             198.0      49.0     M        2.0   \n",
      "4    5126305            12.0             145.0      33.0     F        2.0   \n",
      "\n",
      "         bal  calls_6_mnth  logons_6_mnth  \n",
      "0   45105.30           6.0            9.0  \n",
      "1  110860.30           6.0            9.0  \n",
      "2   52467.79           6.0            9.0  \n",
      "3   67454.65           3.0            6.0  \n",
      "4  103671.75           0.0            3.0  \n",
      "   client_id            visitor_id                      visit_id process_step  \\\n",
      "0    9988021  580560515_7732621733  781255054_21935453173_531117       step_3   \n",
      "1    9988021  580560515_7732621733  781255054_21935453173_531117       step_2   \n",
      "2    9988021  580560515_7732621733  781255054_21935453173_531117       step_3   \n",
      "3    9988021  580560515_7732621733  781255054_21935453173_531117       step_2   \n",
      "4    9988021  580560515_7732621733  781255054_21935453173_531117       step_3   \n",
      "\n",
      "            date_time  \n",
      "0 2017-04-17 15:27:07  \n",
      "1 2017-04-17 15:26:51  \n",
      "2 2017-04-17 15:19:22  \n",
      "3 2017-04-17 15:19:13  \n",
      "4 2017-04-17 15:18:04  \n",
      "   client_id variation\n",
      "0    9988021      Test\n",
      "1    8320017      Test\n",
      "2    4033851   Control\n",
      "3    1982004      Test\n",
      "4    9294070   Control\n"
     ]
    }
   ],
   "source": [
    "def print_h(data):\n",
    "    for name, d in data.items():    \n",
    "        print(d.head(5))\n",
    "    \n",
    "print_h(data)"
   ]
  },
  {
   "cell_type": "code",
   "execution_count": 11,
   "metadata": {
    "collapsed": false
   },
   "outputs": [
   ],
   "source": [
    "# web_data_summary\n",
    "\n",
    "# target df:\n",
    "\n",
    "# client_id - id of client\n",
    "# confirmed - has reached the confirmed step\n",
    "# avg_step_duration - average time spent on each step\n",
    "# error_count - number of teams they went back to a previous step\n",
    "# had_error - use went back a step at least 1 time\n",
    "# no_of_visits\n",
    "# no_of_confirmed"
   ]
  },
  {
   "cell_type": "code",
   "execution_count": 12,
   "metadata": {
    "collapsed": false,
    "scrolled": true
   },
   "outputs": [
   ],
   "source": [
    "clients_who_confirmed = df_final_web_data[df_final_web_data['process_step']=='confirm']\n",
    "clients_who_confirmed = clients_who_confirmed.drop_duplicates(subset='client_id')"
   ]
  },
  {
   "cell_type": "code",
   "execution_count": 13,
   "metadata": {
    "collapsed": false
   },
   "outputs": [
   ],
   "source": [
    "df_final_web_data = df_final_web_data.drop_duplicates()\n",
    "df_final_web_data = df_final_web_data.sort_values(by=['visit_id','date_time'])\n",
    "df_final_web_data = df_final_web_data.reset_index(drop=True)\n",
    "df_final_web_data['next_date_time'] = (df_final_web_data.sort_values(by='date_time').groupby('visit_id')['date_time'].shift(-1))\n",
    "df_final_web_data['duration'] = df_final_web_data['next_date_time'] - df_final_web_data['date_time']"
   ]
  },
  {
   "cell_type": "code",
   "execution_count": 14,
   "metadata": {
    "collapsed": false
   },
   "outputs": [
   ],
   "source": [
    "df_avg_step_durations = df_final_web_data.groupby(by='client_id')[['duration']].mean()"
   ]
  },
  {
   "cell_type": "code",
   "execution_count": 15,
   "metadata": {
    "collapsed": false
   },
   "outputs": [
   ],
   "source": [
    "# how are we going to define an error \n",
    "# - is hitting the same page twice an error\n",
    "# - is it only an error if you go back a step?\n",
    "# - is it only an error if you go back a step within the same visit?\n",
    "\n",
    "# lets review the \"documentation\"\n",
    "# Error Rates: If there’s a step where users go back to a previous step,\n",
    "# it may indicate confusion or an error. You should consider moving from \n",
    "# a later step to an earlier one as an error"
   ]
  },
  {
   "cell_type": "code",
   "execution_count": 16,
   "metadata": {
    "collapsed": false
   },
   "outputs": [
   ],
   "source": [
    "df_final_web_data = df_final_web_data.sort_values(['client_id','date_time'])\n",
    "process_map = {'start':0, 'step_1':1, 'step_2':2, 'step_3':3, 'confirm':4}\n",
    "df_final_web_data['process_step_id'] = df_final_web_data['process_step'].map(process_map)\n",
    "df_final_web_data['previous_process_step_id'] = (df_final_web_data.sort_values(by=['client_id','date_time']).groupby('client_id')['process_step_id'].shift(1))\n",
    "df_final_web_data['is_error'] = df_final_web_data['process_step_id'] < df_final_web_data['previous_process_step_id']\n",
    "df_final_web_data[df_final_web_data['client_id'].isin(df_final_web_data['client_id'].sample(5))][['client_id','date_time','process_step_id','previous_process_step_id','is_error']]\n",
    "df_client_error = df_final_web_data[df_final_web_data['is_error']==True].groupby('client_id')['is_error'].agg([max,len])"
   ]
  },
  {
   "cell_type": "code",
   "execution_count": 17,
   "metadata": {
    "collapsed": false
   },
   "outputs": [
   ],
   "source": [
    "df_client_visits = df_final_web_data.groupby('client_id')[['visit_id']].nunique()"
   ]
  },
  {
   "cell_type": "code",
   "execution_count": 18,
   "metadata": {
    "collapsed": false
   },
   "outputs": [
   ],
   "source": [
    "number_steps = df_final_web_data.groupby('client_id')[['process_step']].nunique()\n",
    "number_steps = number_steps.rename(columns={\"client_id\":\"client_id\", \"process_step\": \"number_steps\"})\n",
    "number_steps = number_steps.reset_index()"
   ]
  },
  {
   "cell_type": "code",
   "execution_count": 19,
   "metadata": {
    "collapsed": false
   },
   "outputs": [
   ],
   "source": [
    "df_client_confirms = df_final_web_data[['client_id','process_step']][df_final_web_data['process_step']=='confirm'].groupby('client_id').count()\n",
    "df_client_confirms.columns = ['no_of_confirms']"
   ]
  },
  {
   "cell_type": "code",
   "execution_count": 20,
   "metadata": {
    "collapsed": false
   },
   "outputs": [
   ],
   "source": [
    "clients_who_confirmed['is_confirmed'] = 1\n",
    "clients_who_confirmed = clients_who_confirmed[['client_id', 'is_confirmed']]\n",
    "df_avg_step_durations = df_avg_step_durations.reset_index()\n",
    "df_client_error = df_client_error.reset_index()\n",
    "df_client_error.columns=['client_id','had_error','error_count']\n",
    "df_client_error\n",
    "df_client_visits = df_client_visits.reset_index()\n",
    "df_client_visits.columns=['client_id', 'no_of_visits']\n",
    "df_client_confirms = df_client_confirms.reset_index()"
   ]
  },
  {
   "cell_type": "code",
   "execution_count": 21,
   "metadata": {
    "collapsed": false
   },
   "outputs": [
   ],
   "source": [
    "dfs =[df_client_visits, clients_who_confirmed, df_avg_step_durations, df_client_error, df_client_confirms, number_steps]\n",
    "dfs = [df.set_index('client_id') for df in dfs]\n",
    "\n",
    "web_data_summary = dfs[0].join(dfs[1:])"
   ]
  },
  {
   "cell_type": "code",
   "execution_count": 22,
   "metadata": {
    "collapsed": false
   },
   "outputs": [
   ],
   "source": [
    "web_data_summary['had_error'] = web_data_summary['had_error'].fillna(False)\n",
    "web_data_summary = web_data_summary.fillna(0)\n",
    "web_data_summary['is_confirmed'] = web_data_summary['is_confirmed'].map({1:True, 0:False})\n",
    "web_data_summary[['error_count','no_of_confirms']] = web_data_summary[['error_count','no_of_confirms']].astype(int)"
   ]
  },
  {
   "cell_type": "code",
   "execution_count": 23,
   "metadata": {
    "collapsed": false,
    "scrolled": true
   },
   "outputs": [
    {
     "data": {
      "text/html": [
       "<div>\n",
       "<style scoped>\n",
       "    .dataframe tbody tr th:only-of-type {\n",
       "        vertical-align: middle;\n",
       "    }\n",
       "\n",
       "    .dataframe tbody tr th {\n",
       "        vertical-align: top;\n",
       "    }\n",
       "\n",
       "    .dataframe thead th {\n",
       "        text-align: right;\n",
       "    }\n",
       "</style>\n",
       "<table border=\"1\" class=\"dataframe\">\n",
       "  <thead>\n",
       "    <tr style=\"text-align: right;\">\n",
       "      <th></th>\n",
       "      <th>no_of_visits</th>\n",
       "      <th>is_confirmed</th>\n",
       "      <th>duration</th>\n",
       "      <th>had_error</th>\n",
       "      <th>error_count</th>\n",
       "      <th>no_of_confirms</th>\n",
       "      <th>number_steps</th>\n",
       "    </tr>\n",
       "    <tr>\n",
       "      <th>client_id</th>\n",
       "      <th></th>\n",
       "      <th></th>\n",
       "      <th></th>\n",
       "      <th></th>\n",
       "      <th></th>\n",
       "      <th></th>\n",
       "      <th></th>\n",
       "    </tr>\n",
       "  </thead>\n",
       "  <tbody>\n",
       "    <tr>\n",
       "      <th>169</th>\n",
       "      <td>1</td>\n",
       "      <td>True</td>\n",
       "      <td>0 days 00:00:53.250000</td>\n",
       "      <td>False</td>\n",
       "      <td>0</td>\n",
       "      <td>1</td>\n",
       "      <td>5</td>\n",
       "    </tr>\n",
       "    <tr>\n",
       "      <th>336</th>\n",
       "      <td>1</td>\n",
       "      <td>False</td>\n",
       "      <td>0 days 00:15:48</td>\n",
       "      <td>False</td>\n",
       "      <td>0</td>\n",
       "      <td>0</td>\n",
       "      <td>1</td>\n",
       "    </tr>\n",
       "    <tr>\n",
       "      <th>546</th>\n",
       "      <td>1</td>\n",
       "      <td>True</td>\n",
       "      <td>0 days 00:00:33.250000</td>\n",
       "      <td>False</td>\n",
       "      <td>0</td>\n",
       "      <td>1</td>\n",
       "      <td>5</td>\n",
       "    </tr>\n",
       "    <tr>\n",
       "      <th>555</th>\n",
       "      <td>1</td>\n",
       "      <td>True</td>\n",
       "      <td>0 days 00:00:39.500000</td>\n",
       "      <td>False</td>\n",
       "      <td>0</td>\n",
       "      <td>1</td>\n",
       "      <td>5</td>\n",
       "    </tr>\n",
       "    <tr>\n",
       "      <th>647</th>\n",
       "      <td>1</td>\n",
       "      <td>True</td>\n",
       "      <td>0 days 00:01:34.250000</td>\n",
       "      <td>False</td>\n",
       "      <td>0</td>\n",
       "      <td>1</td>\n",
       "      <td>5</td>\n",
       "    </tr>\n",
       "    <tr>\n",
       "      <th>...</th>\n",
       "      <td>...</td>\n",
       "      <td>...</td>\n",
       "      <td>...</td>\n",
       "      <td>...</td>\n",
       "      <td>...</td>\n",
       "      <td>...</td>\n",
       "      <td>...</td>\n",
       "    </tr>\n",
       "    <tr>\n",
       "      <th>9999729</th>\n",
       "      <td>3</td>\n",
       "      <td>True</td>\n",
       "      <td>0 days 00:01:07.500000</td>\n",
       "      <td>True</td>\n",
       "      <td>2</td>\n",
       "      <td>1</td>\n",
       "      <td>5</td>\n",
       "    </tr>\n",
       "    <tr>\n",
       "      <th>9999768</th>\n",
       "      <td>1</td>\n",
       "      <td>True</td>\n",
       "      <td>0 days 00:00:44.181818181</td>\n",
       "      <td>True</td>\n",
       "      <td>3</td>\n",
       "      <td>1</td>\n",
       "      <td>5</td>\n",
       "    </tr>\n",
       "    <tr>\n",
       "      <th>9999832</th>\n",
       "      <td>1</td>\n",
       "      <td>False</td>\n",
       "      <td>0 days 00:00:08</td>\n",
       "      <td>False</td>\n",
       "      <td>0</td>\n",
       "      <td>0</td>\n",
       "      <td>2</td>\n",
       "    </tr>\n",
       "    <tr>\n",
       "      <th>9999839</th>\n",
       "      <td>1</td>\n",
       "      <td>True</td>\n",
       "      <td>0 days 00:00:49.600000</td>\n",
       "      <td>False</td>\n",
       "      <td>0</td>\n",
       "      <td>1</td>\n",
       "      <td>5</td>\n",
       "    </tr>\n",
       "    <tr>\n",
       "      <th>9999875</th>\n",
       "      <td>1</td>\n",
       "      <td>True</td>\n",
       "      <td>0 days 00:01:43.600000</td>\n",
       "      <td>False</td>\n",
       "      <td>0</td>\n",
       "      <td>1</td>\n",
       "      <td>5</td>\n",
       "    </tr>\n",
       "  </tbody>\n",
       "</table>\n",
       "<p>120157 rows × 7 columns</p>\n",
       "</div>"
      ],
      "text/plain": [
       "           no_of_visits  is_confirmed                   duration  had_error  \\\n",
       "client_id                                                                     \n",
       "169                   1          True     0 days 00:00:53.250000      False   \n",
       "336                   1         False            0 days 00:15:48      False   \n",
       "546                   1          True     0 days 00:00:33.250000      False   \n",
       "555                   1          True     0 days 00:00:39.500000      False   \n",
       "647                   1          True     0 days 00:01:34.250000      False   \n",
       "...                 ...           ...                        ...        ...   \n",
       "9999729               3          True     0 days 00:01:07.500000       True   \n",
       "9999768               1          True  0 days 00:00:44.181818181       True   \n",
       "9999832               1         False            0 days 00:00:08      False   \n",
       "9999839               1          True     0 days 00:00:49.600000      False   \n",
       "9999875               1          True     0 days 00:01:43.600000      False   \n",
       "\n",
       "           error_count  no_of_confirms  number_steps  \n",
       "client_id                                             \n",
       "169                  0               1             5  \n",
       "336                  0               0             1  \n",
       "546                  0               1             5  \n",
       "555                  0               1             5  \n",
       "647                  0               1             5  \n",
       "...                ...             ...           ...  \n",
       "9999729              2               1             5  \n",
       "9999768              3               1             5  \n",
       "9999832              0               0             2  \n",
       "9999839              0               1             5  \n",
       "9999875              0               1             5  \n",
       "\n",
       "[120157 rows x 7 columns]"
      ]
     },
     "execution_count": 23,
     "metadata": {
     },
     "output_type": "execute_result"
    }
   ],
   "source": [
    "web_data_summary"
   ]
  },
  {
   "cell_type": "code",
   "execution_count": 24,
   "metadata": {
    "collapsed": false
   },
   "outputs": [
   ],
   "source": [
    "client_information_experiment = pd.merge(df_final_demo, df_final_experiement_clients, on='client_id', how='left')\n"
   ]
  },
  {
   "cell_type": "code",
   "execution_count": 25,
   "metadata": {
    "collapsed": false
   },
   "outputs": [
   ],
   "source": [
    "client_information_experiment[\"variation\"] = client_information_experiment[\"variation\"].fillna(\"unknown\")\n"
   ]
  },
  {
   "cell_type": "code",
   "execution_count": 26,
   "metadata": {
    "collapsed": false
   },
   "outputs": [
    {
     "data": {
      "text/plain": [
       "dtype('float64')"
      ]
     },
     "execution_count": 26,
     "metadata": {
     },
     "output_type": "execute_result"
    }
   ],
   "source": [
    "client_information_experiment[\"clnt_age\"].dtypes"
   ]
  },
  {
   "cell_type": "code",
   "execution_count": 27,
   "metadata": {
    "collapsed": false,
    "scrolled": true
   },
   "outputs": [
    {
     "data": {
      "image/png": "[encoded data removed]",
      "text/plain": [
       "<Figure size 1161.38x360 with 3 Axes>"
      ]
     },
     "execution_count": 27,
     "metadata": {
      "image/png": {
       "height": 350,
       "width": 1159
      },
      "needs_background": "light"
     },
     "output_type": "execute_result"
    }
   ],
   "source": [
    "sns.displot(data=client_information_experiment, x=\"clnt_age\",  hue=\"variation\", col=\"variation\")\n",
    "plt.show()"
   ]
  },
  {
   "cell_type": "markdown",
   "metadata": {
    "collapsed": false
   },
   "source": [
    "<h2> Redesign Outcome: New design’s performance compared to the old one,  based on the chosen KPIs"
   ]
  },
  {
   "cell_type": "code",
   "execution_count": 28,
   "metadata": {
    "collapsed": false
   },
   "outputs": [
   ],
   "source": [
    "web_data_summary_experiment = pd.merge(web_data_summary, df_final_experiement_clients, on='client_id', how='outer')\n",
    "web_data_summary_experiment[\"variation\"] = web_data_summary_experiment[\"variation\"].fillna(\"Unknown\")\n",
    "web_data_summary_experiment[\"variation\"].value_counts()\n",
    "web_data_summary_experiment['duration'] = pd.to_timedelta(web_data_summary_experiment['duration'])"
   ]
  },
  {
   "cell_type": "code",
   "execution_count": 29,
   "metadata": {
    "collapsed": false
   },
   "outputs": [
    {
     "data": {
      "text/html": [
       "<div>\n",
       "<style scoped>\n",
       "    .dataframe tbody tr th:only-of-type {\n",
       "        vertical-align: middle;\n",
       "    }\n",
       "\n",
       "    .dataframe tbody tr th {\n",
       "        vertical-align: top;\n",
       "    }\n",
       "\n",
       "    .dataframe thead th {\n",
       "        text-align: right;\n",
       "    }\n",
       "</style>\n",
       "<table border=\"1\" class=\"dataframe\">\n",
       "  <thead>\n",
       "    <tr style=\"text-align: right;\">\n",
       "      <th></th>\n",
       "      <th>client_id</th>\n",
       "      <th>no_of_visits</th>\n",
       "      <th>is_confirmed</th>\n",
       "      <th>duration</th>\n",
       "      <th>had_error</th>\n",
       "      <th>error_count</th>\n",
       "      <th>no_of_confirms</th>\n",
       "      <th>number_steps</th>\n",
       "      <th>variation</th>\n",
       "    </tr>\n",
       "  </thead>\n",
       "  <tbody>\n",
       "    <tr>\n",
       "      <th>0</th>\n",
       "      <td>169</td>\n",
       "      <td>1</td>\n",
       "      <td>True</td>\n",
       "      <td>0 days 00:00:53.250000</td>\n",
       "      <td>False</td>\n",
       "      <td>0</td>\n",
       "      <td>1</td>\n",
       "      <td>5</td>\n",
       "      <td>Unknown</td>\n",
       "    </tr>\n",
       "    <tr>\n",
       "      <th>1</th>\n",
       "      <td>336</td>\n",
       "      <td>1</td>\n",
       "      <td>False</td>\n",
       "      <td>0 days 00:15:48</td>\n",
       "      <td>False</td>\n",
       "      <td>0</td>\n",
       "      <td>0</td>\n",
       "      <td>1</td>\n",
       "      <td>Unknown</td>\n",
       "    </tr>\n",
       "    <tr>\n",
       "      <th>2</th>\n",
       "      <td>546</td>\n",
       "      <td>1</td>\n",
       "      <td>True</td>\n",
       "      <td>0 days 00:00:33.250000</td>\n",
       "      <td>False</td>\n",
       "      <td>0</td>\n",
       "      <td>1</td>\n",
       "      <td>5</td>\n",
       "      <td>Unknown</td>\n",
       "    </tr>\n",
       "    <tr>\n",
       "      <th>3</th>\n",
       "      <td>555</td>\n",
       "      <td>1</td>\n",
       "      <td>True</td>\n",
       "      <td>0 days 00:00:39.500000</td>\n",
       "      <td>False</td>\n",
       "      <td>0</td>\n",
       "      <td>1</td>\n",
       "      <td>5</td>\n",
       "      <td>Test</td>\n",
       "    </tr>\n",
       "    <tr>\n",
       "      <th>4</th>\n",
       "      <td>647</td>\n",
       "      <td>1</td>\n",
       "      <td>True</td>\n",
       "      <td>0 days 00:01:34.250000</td>\n",
       "      <td>False</td>\n",
       "      <td>0</td>\n",
       "      <td>1</td>\n",
       "      <td>5</td>\n",
       "      <td>Test</td>\n",
       "    </tr>\n",
       "  </tbody>\n",
       "</table>\n",
       "</div>"
      ],
      "text/plain": [
       "   client_id  no_of_visits  is_confirmed               duration  had_error  \\\n",
       "0        169             1          True 0 days 00:00:53.250000      False   \n",
       "1        336             1         False        0 days 00:15:48      False   \n",
       "2        546             1          True 0 days 00:00:33.250000      False   \n",
       "3        555             1          True 0 days 00:00:39.500000      False   \n",
       "4        647             1          True 0 days 00:01:34.250000      False   \n",
       "\n",
       "   error_count  no_of_confirms  number_steps variation  \n",
       "0            0               1             5   Unknown  \n",
       "1            0               0             1   Unknown  \n",
       "2            0               1             5   Unknown  \n",
       "3            0               1             5      Test  \n",
       "4            0               1             5      Test  "
      ]
     },
     "execution_count": 29,
     "metadata": {
     },
     "output_type": "execute_result"
    }
   ],
   "source": [
    "web_data_summary_experiment.head()"
   ]
  },
  {
   "cell_type": "code",
   "execution_count": 30,
   "metadata": {
    "collapsed": false,
    "scrolled": true
   },
   "outputs": [
    {
     "data": {
      "text/html": [
       "<div>\n",
       "<style scoped>\n",
       "    .dataframe tbody tr th:only-of-type {\n",
       "        vertical-align: middle;\n",
       "    }\n",
       "\n",
       "    .dataframe tbody tr th {\n",
       "        vertical-align: top;\n",
       "    }\n",
       "\n",
       "    .dataframe thead th {\n",
       "        text-align: right;\n",
       "    }\n",
       "</style>\n",
       "<table border=\"1\" class=\"dataframe\">\n",
       "  <thead>\n",
       "    <tr style=\"text-align: right;\">\n",
       "      <th></th>\n",
       "      <th>client_id</th>\n",
       "      <th>no_of_visits</th>\n",
       "      <th>duration</th>\n",
       "      <th>error_count</th>\n",
       "      <th>no_of_confirms</th>\n",
       "      <th>number_steps</th>\n",
       "    </tr>\n",
       "  </thead>\n",
       "  <tbody>\n",
       "    <tr>\n",
       "      <th>count</th>\n",
       "      <td>1.201570e+05</td>\n",
       "      <td>120157.000000</td>\n",
       "      <td>120157</td>\n",
       "      <td>120157.000000</td>\n",
       "      <td>120157.000000</td>\n",
       "      <td>120157.000000</td>\n",
       "    </tr>\n",
       "    <tr>\n",
       "      <th>mean</th>\n",
       "      <td>5.013372e+06</td>\n",
       "      <td>1.324201</td>\n",
       "      <td>0 days 00:01:13.051723046</td>\n",
       "      <td>0.624017</td>\n",
       "      <td>0.853101</td>\n",
       "      <td>4.103981</td>\n",
       "    </tr>\n",
       "    <tr>\n",
       "      <th>std</th>\n",
       "      <td>2.881872e+06</td>\n",
       "      <td>0.741575</td>\n",
       "      <td>0 days 00:01:37.557571523</td>\n",
       "      <td>1.183999</td>\n",
       "      <td>0.909968</td>\n",
       "      <td>1.447308</td>\n",
       "    </tr>\n",
       "    <tr>\n",
       "      <th>min</th>\n",
       "      <td>1.690000e+02</td>\n",
       "      <td>1.000000</td>\n",
       "      <td>0 days 00:00:00</td>\n",
       "      <td>0.000000</td>\n",
       "      <td>0.000000</td>\n",
       "      <td>1.000000</td>\n",
       "    </tr>\n",
       "    <tr>\n",
       "      <th>25%</th>\n",
       "      <td>2.521851e+06</td>\n",
       "      <td>1.000000</td>\n",
       "      <td>0 days 00:00:29.250000</td>\n",
       "      <td>0.000000</td>\n",
       "      <td>0.000000</td>\n",
       "      <td>4.000000</td>\n",
       "    </tr>\n",
       "    <tr>\n",
       "      <th>50%</th>\n",
       "      <td>5.020068e+06</td>\n",
       "      <td>1.000000</td>\n",
       "      <td>0 days 00:00:49.642857142</td>\n",
       "      <td>0.000000</td>\n",
       "      <td>1.000000</td>\n",
       "      <td>5.000000</td>\n",
       "    </tr>\n",
       "    <tr>\n",
       "      <th>75%</th>\n",
       "      <td>7.505650e+06</td>\n",
       "      <td>1.000000</td>\n",
       "      <td>0 days 00:01:25</td>\n",
       "      <td>1.000000</td>\n",
       "      <td>1.000000</td>\n",
       "      <td>5.000000</td>\n",
       "    </tr>\n",
       "    <tr>\n",
       "      <th>max</th>\n",
       "      <td>9.999875e+06</td>\n",
       "      <td>21.000000</td>\n",
       "      <td>0 days 01:18:13</td>\n",
       "      <td>30.000000</td>\n",
       "      <td>23.000000</td>\n",
       "      <td>5.000000</td>\n",
       "    </tr>\n",
       "  </tbody>\n",
       "</table>\n",
       "</div>"
      ],
      "text/plain": [
       "          client_id   no_of_visits                   duration    error_count  \\\n",
       "count  1.201570e+05  120157.000000                     120157  120157.000000   \n",
       "mean   5.013372e+06       1.324201  0 days 00:01:13.051723046       0.624017   \n",
       "std    2.881872e+06       0.741575  0 days 00:01:37.557571523       1.183999   \n",
       "min    1.690000e+02       1.000000            0 days 00:00:00       0.000000   \n",
       "25%    2.521851e+06       1.000000     0 days 00:00:29.250000       0.000000   \n",
       "50%    5.020068e+06       1.000000  0 days 00:00:49.642857142       0.000000   \n",
       "75%    7.505650e+06       1.000000            0 days 00:01:25       1.000000   \n",
       "max    9.999875e+06      21.000000            0 days 01:18:13      30.000000   \n",
       "\n",
       "       no_of_confirms   number_steps  \n",
       "count   120157.000000  120157.000000  \n",
       "mean         0.853101       4.103981  \n",
       "std          0.909968       1.447308  \n",
       "min          0.000000       1.000000  \n",
       "25%          0.000000       4.000000  \n",
       "50%          1.000000       5.000000  \n",
       "75%          1.000000       5.000000  \n",
       "max         23.000000       5.000000  "
      ]
     },
     "execution_count": 30,
     "metadata": {
     },
     "output_type": "execute_result"
    }
   ],
   "source": [
    "web_data_summary_experiment.describe()"
   ]
  },
  {
   "cell_type": "code",
   "execution_count": 31,
   "metadata": {
    "collapsed": false
   },
   "outputs": [
   ],
   "source": [
    "# Redesign Outcome\n",
    "# Based on the chosen KPIs, how does the new design’s performance compare to the old one?"
   ]
  },
  {
   "cell_type": "code",
   "execution_count": 32,
   "metadata": {
    "collapsed": false,
    "scrolled": true
   },
   "outputs": [
    {
     "data": {
      "text/html": [
       "<div>\n",
       "<style scoped>\n",
       "    .dataframe tbody tr th:only-of-type {\n",
       "        vertical-align: middle;\n",
       "    }\n",
       "\n",
       "    .dataframe tbody tr th {\n",
       "        vertical-align: top;\n",
       "    }\n",
       "\n",
       "    .dataframe thead th {\n",
       "        text-align: right;\n",
       "    }\n",
       "</style>\n",
       "<table border=\"1\" class=\"dataframe\">\n",
       "  <thead>\n",
       "    <tr style=\"text-align: right;\">\n",
       "      <th></th>\n",
       "      <th>variation</th>\n",
       "      <th>completion rate</th>\n",
       "      <th>error rate</th>\n",
       "      <th>number steps</th>\n",
       "    </tr>\n",
       "  </thead>\n",
       "  <tbody>\n",
       "    <tr>\n",
       "      <th>0</th>\n",
       "      <td>Test</td>\n",
       "      <td>0.692932</td>\n",
       "      <td>0.378004</td>\n",
       "      <td>4.181697</td>\n",
       "    </tr>\n",
       "    <tr>\n",
       "      <th>1</th>\n",
       "      <td>Control</td>\n",
       "      <td>0.655873</td>\n",
       "      <td>0.343320</td>\n",
       "      <td>4.039393</td>\n",
       "    </tr>\n",
       "    <tr>\n",
       "      <th>2</th>\n",
       "      <td>Unknown</td>\n",
       "      <td>0.675079</td>\n",
       "      <td>0.346713</td>\n",
       "      <td>4.095712</td>\n",
       "    </tr>\n",
       "  </tbody>\n",
       "</table>\n",
       "</div>"
      ],
      "text/plain": [
       "  variation  completion rate  error rate  number steps\n",
       "0      Test         0.692932    0.378004      4.181697\n",
       "1   Control         0.655873    0.343320      4.039393\n",
       "2   Unknown         0.675079    0.346713      4.095712"
      ]
     },
     "execution_count": 32,
     "metadata": {
     },
     "output_type": "execute_result"
    }
   ],
   "source": [
    "ab_test_groups = [\"Test\", \"Control\", \"Unknown\"]\n",
    "\n",
    "def test_results(web_data_summary_experiment, variation):\n",
    "    data_subset = web_data_summary_experiment.loc[web_data_summary_experiment[\"variation\"] == variation]\n",
    "    non_zero_confirm = data_subset.loc[data_subset[\"no_of_confirms\"] != 0][\"client_id\"].count()\n",
    "    had_error = data_subset.loc[data_subset[\"error_count\"] != 0][\"client_id\"].count()\n",
    "    total_count = data_subset[\"client_id\"].count()\n",
    "    avg_number_steps = data_subset[\"number_steps\"].mean()\n",
    "    error_rate = had_error/total_count\n",
    "    completion_rate = non_zero_confirm/ total_count\n",
    "\n",
    "    return completion_rate, error_rate, avg_number_steps\n",
    "    \n",
    "\n",
    "# Create an empty list to store dictionaries\n",
    "result_data = []\n",
    "\n",
    "# Fill the list with values\n",
    "for variation in ab_test_groups:\n",
    "    completion_rate_val, error_rate_val, avg_number_steps = test_results(web_data_summary_experiment, variation)\n",
    "    result_data.append({\"variation\": variation, \"completion rate\": completion_rate_val, \"error rate\": error_rate_val, \"number steps\": avg_number_steps} )\n",
    "\n",
    "# Create a DataFrame from the list of dictionaries\n",
    "test_results = pd.DataFrame(result_data)\n",
    "test_results"
   ]
  },
  {
   "cell_type": "code",
   "execution_count": 33,
   "metadata": {
    "collapsed": false
   },
   "outputs": [
    {
     "data": {
      "text/html": [
       "<div>\n",
       "<style scoped>\n",
       "    .dataframe tbody tr th:only-of-type {\n",
       "        vertical-align: middle;\n",
       "    }\n",
       "\n",
       "    .dataframe tbody tr th {\n",
       "        vertical-align: top;\n",
       "    }\n",
       "\n",
       "    .dataframe thead th {\n",
       "        text-align: right;\n",
       "    }\n",
       "</style>\n",
       "<table border=\"1\" class=\"dataframe\">\n",
       "  <thead>\n",
       "    <tr style=\"text-align: right;\">\n",
       "      <th></th>\n",
       "      <th>variation</th>\n",
       "      <th>client_id_count</th>\n",
       "      <th>clients_percent</th>\n",
       "      <th>avg_visits</th>\n",
       "      <th>total_visits</th>\n",
       "      <th>visits_percent</th>\n",
       "      <th>avg_duration</th>\n",
       "      <th>min_duration</th>\n",
       "      <th>max_duration</th>\n",
       "      <th>total_confirms</th>\n",
       "      <th>avg_conf</th>\n",
       "      <th>avg_errors</th>\n",
       "      <th>total_errors</th>\n",
       "      <th>avg_duration_m_s</th>\n",
       "    </tr>\n",
       "  </thead>\n",
       "  <tbody>\n",
       "    <tr>\n",
       "      <th>0</th>\n",
       "      <td>Control</td>\n",
       "      <td>23532</td>\n",
       "      <td>0.20</td>\n",
       "      <td>1.370177</td>\n",
       "      <td>32243</td>\n",
       "      <td>0.20</td>\n",
       "      <td>0 days 00:01:11.694819541</td>\n",
       "      <td>0 days</td>\n",
       "      <td>0 days 01:03:35.833333333</td>\n",
       "      <td>17336</td>\n",
       "      <td>0.736699</td>\n",
       "      <td>0.565273</td>\n",
       "      <td>13302</td>\n",
       "      <td>01:12</td>\n",
       "    </tr>\n",
       "    <tr>\n",
       "      <th>1</th>\n",
       "      <td>Test</td>\n",
       "      <td>26968</td>\n",
       "      <td>0.22</td>\n",
       "      <td>1.379561</td>\n",
       "      <td>37204</td>\n",
       "      <td>0.23</td>\n",
       "      <td>0 days 00:01:13.568737177</td>\n",
       "      <td>0 days</td>\n",
       "      <td>0 days 01:05:53</td>\n",
       "      <td>25600</td>\n",
       "      <td>0.949273</td>\n",
       "      <td>0.707246</td>\n",
       "      <td>19073</td>\n",
       "      <td>01:14</td>\n",
       "    </tr>\n",
       "    <tr>\n",
       "      <th>2</th>\n",
       "      <td>Unknown</td>\n",
       "      <td>69657</td>\n",
       "      <td>0.58</td>\n",
       "      <td>1.287236</td>\n",
       "      <td>89665</td>\n",
       "      <td>0.56</td>\n",
       "      <td>0 days 00:01:13.309957197</td>\n",
       "      <td>0 days</td>\n",
       "      <td>0 days 01:18:13</td>\n",
       "      <td>59570</td>\n",
       "      <td>0.855190</td>\n",
       "      <td>0.611640</td>\n",
       "      <td>42605</td>\n",
       "      <td>01:13</td>\n",
       "    </tr>\n",
       "  </tbody>\n",
       "</table>\n",
       "</div>"
      ],
      "text/plain": [
       "  variation  client_id_count  clients_percent  avg_visits  total_visits  \\\n",
       "0   Control            23532             0.20    1.370177         32243   \n",
       "1      Test            26968             0.22    1.379561         37204   \n",
       "2   Unknown            69657             0.58    1.287236         89665   \n",
       "\n",
       "   visits_percent              avg_duration min_duration  \\\n",
       "0            0.20 0 days 00:01:11.694819541       0 days   \n",
       "1            0.23 0 days 00:01:13.568737177       0 days   \n",
       "2            0.56 0 days 00:01:13.309957197       0 days   \n",
       "\n",
       "               max_duration  total_confirms  avg_conf  avg_errors  \\\n",
       "0 0 days 01:03:35.833333333           17336  0.736699    0.565273   \n",
       "1           0 days 01:05:53           25600  0.949273    0.707246   \n",
       "2           0 days 01:18:13           59570  0.855190    0.611640   \n",
       "\n",
       "   total_errors avg_duration_m_s  \n",
       "0         13302            01:12  \n",
       "1         19073            01:14  \n",
       "2         42605            01:13  "
      ]
     },
     "execution_count": 33,
     "metadata": {
     },
     "output_type": "execute_result"
    }
   ],
   "source": [
    "web_data_summary_experiment['duration'] = pd.to_timedelta(web_data_summary_experiment['duration'])\n",
    "web_data_summary_experiment_grouped = web_data_summary_experiment.groupby(\"variation\").agg(\n",
    "    client_id_count=('client_id', 'count'),\n",
    "    avg_visits=('no_of_visits', 'mean'),\n",
    "    total_visits=('no_of_visits', 'sum'),\n",
    "    avg_duration=('duration', 'mean'),\n",
    "    min_duration=('duration', 'min'),\n",
    "    max_duration=('duration', 'max'),\n",
    "    total_confirms=('no_of_confirms', 'sum'),\n",
    "    avg_conf=('no_of_confirms', \"mean\"),\n",
    "    avg_errors=('error_count', 'mean'),\n",
    "    total_errors=('error_count', 'sum'),\n",
    ")\n",
    "\n",
    "web_data_summary_experiment_grouped.reset_index(inplace=True)\n",
    "web_data_summary_experiment_grouped['avg_duration_m_s'] = web_data_summary_experiment_grouped['avg_duration'].apply(lambda x: f\"{int(np.floor(x.total_seconds() / 60)):02d}:{int(round(x.total_seconds() % 60))}\")\n",
    "web_data_summary_experiment_grouped.insert(4, 'visits_percent', (web_data_summary_experiment_grouped['total_visits']/web_data_summary_experiment_grouped['total_visits'].sum()).round(2))\n",
    "web_data_summary_experiment_grouped.insert(2, 'clients_percent', (web_data_summary_experiment_grouped['client_id_count']/web_data_summary_experiment_grouped['client_id_count'].sum()).round(2))\n",
    "web_data_summary_experiment_grouped"
   ]
  },
  {
   "cell_type": "code",
   "execution_count": 34,
   "metadata": {
    "collapsed": false
   },
   "outputs": [
    {
     "data": {
      "text/html": [
       "<div>\n",
       "<style scoped>\n",
       "    .dataframe tbody tr th:only-of-type {\n",
       "        vertical-align: middle;\n",
       "    }\n",
       "\n",
       "    .dataframe tbody tr th {\n",
       "        vertical-align: top;\n",
       "    }\n",
       "\n",
       "    .dataframe thead th {\n",
       "        text-align: right;\n",
       "    }\n",
       "</style>\n",
       "<table border=\"1\" class=\"dataframe\">\n",
       "  <thead>\n",
       "    <tr style=\"text-align: right;\">\n",
       "      <th></th>\n",
       "      <th>variation</th>\n",
       "      <th>completion rate</th>\n",
       "      <th>error rate</th>\n",
       "      <th>number steps</th>\n",
       "      <th>avg_duration_m_s</th>\n",
       "    </tr>\n",
       "  </thead>\n",
       "  <tbody>\n",
       "    <tr>\n",
       "      <th>0</th>\n",
       "      <td>Test</td>\n",
       "      <td>0.692932</td>\n",
       "      <td>0.378004</td>\n",
       "      <td>4.181697</td>\n",
       "      <td>01:14</td>\n",
       "    </tr>\n",
       "    <tr>\n",
       "      <th>1</th>\n",
       "      <td>Control</td>\n",
       "      <td>0.655873</td>\n",
       "      <td>0.343320</td>\n",
       "      <td>4.039393</td>\n",
       "      <td>01:12</td>\n",
       "    </tr>\n",
       "    <tr>\n",
       "      <th>2</th>\n",
       "      <td>Unknown</td>\n",
       "      <td>0.675079</td>\n",
       "      <td>0.346713</td>\n",
       "      <td>4.095712</td>\n",
       "      <td>01:13</td>\n",
       "    </tr>\n",
       "  </tbody>\n",
       "</table>\n",
       "</div>"
      ],
      "text/plain": [
       "  variation  completion rate  error rate  number steps avg_duration_m_s\n",
       "0      Test         0.692932    0.378004      4.181697            01:14\n",
       "1   Control         0.655873    0.343320      4.039393            01:12\n",
       "2   Unknown         0.675079    0.346713      4.095712            01:13"
      ]
     },
     "execution_count": 34,
     "metadata": {
     },
     "output_type": "execute_result"
    }
   ],
   "source": [
    "duration_visit_test = web_data_summary_experiment_grouped[[\"variation\",\"avg_duration_m_s\"]]\n",
    "test_results2 = pd.merge(test_results, duration_visit_test, how=\"outer\",  on=\"variation\")\n",
    "test_results2"
   ]
  },
  {
   "cell_type": "code",
   "execution_count": 35,
   "metadata": {
    "collapsed": false
   },
   "outputs": [
   ],
   "source": [
    "with pd.ExcelWriter('test_results.xlsx') as writer:  \n",
    "    test_results2.to_excel(writer, sheet_name='test_results', engine='xlsxwriter')\n",
    "    web_data_summary_experiment_grouped.to_excel(writer, sheet_name='test_resuts_extended', engine='xlsxwriter')\n",
    "\n"
   ]
  },
  {
   "cell_type": "code",
   "execution_count": 36,
   "metadata": {
    "collapsed": false
   },
   "outputs": [
    {
     "data": {
      "text/html": [
       "<div>\n",
       "<style scoped>\n",
       "    .dataframe tbody tr th:only-of-type {\n",
       "        vertical-align: middle;\n",
       "    }\n",
       "\n",
       "    .dataframe tbody tr th {\n",
       "        vertical-align: top;\n",
       "    }\n",
       "\n",
       "    .dataframe thead th {\n",
       "        text-align: right;\n",
       "    }\n",
       "</style>\n",
       "<table border=\"1\" class=\"dataframe\">\n",
       "  <thead>\n",
       "    <tr style=\"text-align: right;\">\n",
       "      <th></th>\n",
       "      <th>client_id</th>\n",
       "      <th>no_of_visits</th>\n",
       "      <th>is_confirmed</th>\n",
       "      <th>duration</th>\n",
       "      <th>had_error</th>\n",
       "      <th>error_count</th>\n",
       "      <th>no_of_confirms</th>\n",
       "      <th>number_steps</th>\n",
       "      <th>variation</th>\n",
       "    </tr>\n",
       "  </thead>\n",
       "  <tbody>\n",
       "    <tr>\n",
       "      <th>0</th>\n",
       "      <td>169</td>\n",
       "      <td>1</td>\n",
       "      <td>True</td>\n",
       "      <td>0 days 00:00:53.250000</td>\n",
       "      <td>False</td>\n",
       "      <td>0</td>\n",
       "      <td>1</td>\n",
       "      <td>5</td>\n",
       "      <td>Unknown</td>\n",
       "    </tr>\n",
       "    <tr>\n",
       "      <th>1</th>\n",
       "      <td>336</td>\n",
       "      <td>1</td>\n",
       "      <td>False</td>\n",
       "      <td>0 days 00:15:48</td>\n",
       "      <td>False</td>\n",
       "      <td>0</td>\n",
       "      <td>0</td>\n",
       "      <td>1</td>\n",
       "      <td>Unknown</td>\n",
       "    </tr>\n",
       "    <tr>\n",
       "      <th>2</th>\n",
       "      <td>546</td>\n",
       "      <td>1</td>\n",
       "      <td>True</td>\n",
       "      <td>0 days 00:00:33.250000</td>\n",
       "      <td>False</td>\n",
       "      <td>0</td>\n",
       "      <td>1</td>\n",
       "      <td>5</td>\n",
       "      <td>Unknown</td>\n",
       "    </tr>\n",
       "    <tr>\n",
       "      <th>3</th>\n",
       "      <td>555</td>\n",
       "      <td>1</td>\n",
       "      <td>True</td>\n",
       "      <td>0 days 00:00:39.500000</td>\n",
       "      <td>False</td>\n",
       "      <td>0</td>\n",
       "      <td>1</td>\n",
       "      <td>5</td>\n",
       "      <td>Test</td>\n",
       "    </tr>\n",
       "    <tr>\n",
       "      <th>4</th>\n",
       "      <td>647</td>\n",
       "      <td>1</td>\n",
       "      <td>True</td>\n",
       "      <td>0 days 00:01:34.250000</td>\n",
       "      <td>False</td>\n",
       "      <td>0</td>\n",
       "      <td>1</td>\n",
       "      <td>5</td>\n",
       "      <td>Test</td>\n",
       "    </tr>\n",
       "    <tr>\n",
       "      <th>...</th>\n",
       "      <td>...</td>\n",
       "      <td>...</td>\n",
       "      <td>...</td>\n",
       "      <td>...</td>\n",
       "      <td>...</td>\n",
       "      <td>...</td>\n",
       "      <td>...</td>\n",
       "      <td>...</td>\n",
       "      <td>...</td>\n",
       "    </tr>\n",
       "    <tr>\n",
       "      <th>120152</th>\n",
       "      <td>9999729</td>\n",
       "      <td>3</td>\n",
       "      <td>True</td>\n",
       "      <td>0 days 00:01:07.500000</td>\n",
       "      <td>True</td>\n",
       "      <td>2</td>\n",
       "      <td>1</td>\n",
       "      <td>5</td>\n",
       "      <td>Test</td>\n",
       "    </tr>\n",
       "    <tr>\n",
       "      <th>120153</th>\n",
       "      <td>9999768</td>\n",
       "      <td>1</td>\n",
       "      <td>True</td>\n",
       "      <td>0 days 00:00:44.181818181</td>\n",
       "      <td>True</td>\n",
       "      <td>3</td>\n",
       "      <td>1</td>\n",
       "      <td>5</td>\n",
       "      <td>Unknown</td>\n",
       "    </tr>\n",
       "    <tr>\n",
       "      <th>120154</th>\n",
       "      <td>9999832</td>\n",
       "      <td>1</td>\n",
       "      <td>False</td>\n",
       "      <td>0 days 00:00:08</td>\n",
       "      <td>False</td>\n",
       "      <td>0</td>\n",
       "      <td>0</td>\n",
       "      <td>2</td>\n",
       "      <td>Test</td>\n",
       "    </tr>\n",
       "    <tr>\n",
       "      <th>120155</th>\n",
       "      <td>9999839</td>\n",
       "      <td>1</td>\n",
       "      <td>True</td>\n",
       "      <td>0 days 00:00:49.600000</td>\n",
       "      <td>False</td>\n",
       "      <td>0</td>\n",
       "      <td>1</td>\n",
       "      <td>5</td>\n",
       "      <td>Unknown</td>\n",
       "    </tr>\n",
       "    <tr>\n",
       "      <th>120156</th>\n",
       "      <td>9999875</td>\n",
       "      <td>1</td>\n",
       "      <td>True</td>\n",
       "      <td>0 days 00:01:43.600000</td>\n",
       "      <td>False</td>\n",
       "      <td>0</td>\n",
       "      <td>1</td>\n",
       "      <td>5</td>\n",
       "      <td>Unknown</td>\n",
       "    </tr>\n",
       "  </tbody>\n",
       "</table>\n",
       "<p>120157 rows × 9 columns</p>\n",
       "</div>"
      ],
      "text/plain": [
       "        client_id  no_of_visits  is_confirmed                  duration  \\\n",
       "0             169             1          True    0 days 00:00:53.250000   \n",
       "1             336             1         False           0 days 00:15:48   \n",
       "2             546             1          True    0 days 00:00:33.250000   \n",
       "3             555             1          True    0 days 00:00:39.500000   \n",
       "4             647             1          True    0 days 00:01:34.250000   \n",
       "...           ...           ...           ...                       ...   \n",
       "120152    9999729             3          True    0 days 00:01:07.500000   \n",
       "120153    9999768             1          True 0 days 00:00:44.181818181   \n",
       "120154    9999832             1         False           0 days 00:00:08   \n",
       "120155    9999839             1          True    0 days 00:00:49.600000   \n",
       "120156    9999875             1          True    0 days 00:01:43.600000   \n",
       "\n",
       "        had_error  error_count  no_of_confirms  number_steps variation  \n",
       "0           False            0               1             5   Unknown  \n",
       "1           False            0               0             1   Unknown  \n",
       "2           False            0               1             5   Unknown  \n",
       "3           False            0               1             5      Test  \n",
       "4           False            0               1             5      Test  \n",
       "...           ...          ...             ...           ...       ...  \n",
       "120152       True            2               1             5      Test  \n",
       "120153       True            3               1             5   Unknown  \n",
       "120154      False            0               0             2      Test  \n",
       "120155      False            0               1             5   Unknown  \n",
       "120156      False            0               1             5   Unknown  \n",
       "\n",
       "[120157 rows x 9 columns]"
      ]
     },
     "execution_count": 36,
     "metadata": {
     },
     "output_type": "execute_result"
    }
   ],
   "source": [
    "web_data_summary_experiment"
   ]
  },
  {
   "cell_type": "markdown",
   "metadata": {
    "collapsed": false
   },
   "source": [
    "### Client behavior analysis\n",
    "\n",
    "- #### <span style='font-size:medium'>Who are the primary clients using this online process?</span>\n",
    "- #### <span style='font-size:medium'>Are the primary clients younger or older, new or long\\-standing?</span>\n",
    "\n"
   ]
  },
  {
   "cell_type": "code",
   "execution_count": 37,
   "metadata": {
    "collapsed": false
   },
   "outputs": [
    {
     "data": {
      "text/html": [
       "<div>\n",
       "<style scoped>\n",
       "    .dataframe tbody tr th:only-of-type {\n",
       "        vertical-align: middle;\n",
       "    }\n",
       "\n",
       "    .dataframe tbody tr th {\n",
       "        vertical-align: top;\n",
       "    }\n",
       "\n",
       "    .dataframe thead th {\n",
       "        text-align: right;\n",
       "    }\n",
       "</style>\n",
       "<table border=\"1\" class=\"dataframe\">\n",
       "  <thead>\n",
       "    <tr style=\"text-align: right;\">\n",
       "      <th></th>\n",
       "      <th>client_id</th>\n",
       "      <th>clnt_tenure_yr</th>\n",
       "      <th>clnt_tenure_mnth</th>\n",
       "      <th>clnt_age</th>\n",
       "      <th>num_accts</th>\n",
       "      <th>bal</th>\n",
       "      <th>calls_6_mnth</th>\n",
       "      <th>logons_6_mnth</th>\n",
       "    </tr>\n",
       "  </thead>\n",
       "  <tbody>\n",
       "    <tr>\n",
       "      <th>count</th>\n",
       "      <td>7.059400e+04</td>\n",
       "      <td>70594.000000</td>\n",
       "      <td>70594.000000</td>\n",
       "      <td>70594.000000</td>\n",
       "      <td>70594.000000</td>\n",
       "      <td>7.059400e+04</td>\n",
       "      <td>70594.000000</td>\n",
       "      <td>70594.000000</td>\n",
       "    </tr>\n",
       "    <tr>\n",
       "      <th>mean</th>\n",
       "      <td>5.005026e+06</td>\n",
       "      <td>12.053007</td>\n",
       "      <td>150.659999</td>\n",
       "      <td>46.442240</td>\n",
       "      <td>2.255532</td>\n",
       "      <td>1.474467e+05</td>\n",
       "      <td>3.382469</td>\n",
       "      <td>5.566720</td>\n",
       "    </tr>\n",
       "    <tr>\n",
       "      <th>std</th>\n",
       "      <td>2.877289e+06</td>\n",
       "      <td>6.871850</td>\n",
       "      <td>82.090264</td>\n",
       "      <td>15.591273</td>\n",
       "      <td>0.535000</td>\n",
       "      <td>3.015106e+05</td>\n",
       "      <td>2.236595</td>\n",
       "      <td>2.353296</td>\n",
       "    </tr>\n",
       "    <tr>\n",
       "      <th>min</th>\n",
       "      <td>1.690000e+02</td>\n",
       "      <td>2.000000</td>\n",
       "      <td>33.000000</td>\n",
       "      <td>13.500000</td>\n",
       "      <td>1.000000</td>\n",
       "      <td>1.378942e+04</td>\n",
       "      <td>0.000000</td>\n",
       "      <td>1.000000</td>\n",
       "    </tr>\n",
       "    <tr>\n",
       "      <th>25%</th>\n",
       "      <td>2.519543e+06</td>\n",
       "      <td>6.000000</td>\n",
       "      <td>82.000000</td>\n",
       "      <td>32.500000</td>\n",
       "      <td>2.000000</td>\n",
       "      <td>3.734660e+04</td>\n",
       "      <td>1.000000</td>\n",
       "      <td>4.000000</td>\n",
       "    </tr>\n",
       "    <tr>\n",
       "      <th>50%</th>\n",
       "      <td>5.016974e+06</td>\n",
       "      <td>11.000000</td>\n",
       "      <td>136.000000</td>\n",
       "      <td>47.000000</td>\n",
       "      <td>2.000000</td>\n",
       "      <td>6.333459e+04</td>\n",
       "      <td>3.000000</td>\n",
       "      <td>5.000000</td>\n",
       "    </tr>\n",
       "    <tr>\n",
       "      <th>75%</th>\n",
       "      <td>7.483074e+06</td>\n",
       "      <td>16.000000</td>\n",
       "      <td>192.000000</td>\n",
       "      <td>59.000000</td>\n",
       "      <td>2.000000</td>\n",
       "      <td>1.375461e+05</td>\n",
       "      <td>6.000000</td>\n",
       "      <td>7.000000</td>\n",
       "    </tr>\n",
       "    <tr>\n",
       "      <th>max</th>\n",
       "      <td>9.999839e+06</td>\n",
       "      <td>62.000000</td>\n",
       "      <td>749.000000</td>\n",
       "      <td>96.000000</td>\n",
       "      <td>8.000000</td>\n",
       "      <td>1.632004e+07</td>\n",
       "      <td>7.000000</td>\n",
       "      <td>9.000000</td>\n",
       "    </tr>\n",
       "  </tbody>\n",
       "</table>\n",
       "</div>"
      ],
      "text/plain": [
       "          client_id  clnt_tenure_yr  clnt_tenure_mnth      clnt_age  \\\n",
       "count  7.059400e+04    70594.000000      70594.000000  70594.000000   \n",
       "mean   5.005026e+06       12.053007        150.659999     46.442240   \n",
       "std    2.877289e+06        6.871850         82.090264     15.591273   \n",
       "min    1.690000e+02        2.000000         33.000000     13.500000   \n",
       "25%    2.519543e+06        6.000000         82.000000     32.500000   \n",
       "50%    5.016974e+06       11.000000        136.000000     47.000000   \n",
       "75%    7.483074e+06       16.000000        192.000000     59.000000   \n",
       "max    9.999839e+06       62.000000        749.000000     96.000000   \n",
       "\n",
       "          num_accts           bal  calls_6_mnth  logons_6_mnth  \n",
       "count  70594.000000  7.059400e+04  70594.000000   70594.000000  \n",
       "mean       2.255532  1.474467e+05      3.382469       5.566720  \n",
       "std        0.535000  3.015106e+05      2.236595       2.353296  \n",
       "min        1.000000  1.378942e+04      0.000000       1.000000  \n",
       "25%        2.000000  3.734660e+04      1.000000       4.000000  \n",
       "50%        2.000000  6.333459e+04      3.000000       5.000000  \n",
       "75%        2.000000  1.375461e+05      6.000000       7.000000  \n",
       "max        8.000000  1.632004e+07      7.000000       9.000000  "
      ]
     },
     "execution_count": 37,
     "metadata": {
     },
     "output_type": "execute_result"
    }
   ],
   "source": [
    "df_final_demo.describe()"
   ]
  },
  {
   "cell_type": "code",
   "execution_count": 38,
   "metadata": {
    "collapsed": false
   },
   "outputs": [
    {
     "name": "stderr",
     "output_type": "stream",
     "text": [
      "/tmp/ipykernel_227/1690943738.py:4: SettingWithCopyWarning: \n",
      "A value is trying to be set on a copy of a slice from a DataFrame.\n",
      "Try using .loc[row_indexer,col_indexer] = value instead\n",
      "\n",
      "See the caveats in the documentation: https://pandas.pydata.org/pandas-docs/stable/user_guide/indexing.html#returning-a-view-versus-a-copy\n",
      "  df_final_demo['age_category'] = pd.cut(df_final_demo['clnt_age'], bins=bins, labels = labels, right = False)\n"
     ]
    },
    {
     "data": {
      "text/html": [
       "<div>\n",
       "<style scoped>\n",
       "    .dataframe tbody tr th:only-of-type {\n",
       "        vertical-align: middle;\n",
       "    }\n",
       "\n",
       "    .dataframe tbody tr th {\n",
       "        vertical-align: top;\n",
       "    }\n",
       "\n",
       "    .dataframe thead th {\n",
       "        text-align: right;\n",
       "    }\n",
       "</style>\n",
       "<table border=\"1\" class=\"dataframe\">\n",
       "  <thead>\n",
       "    <tr style=\"text-align: right;\">\n",
       "      <th></th>\n",
       "      <th>client_id</th>\n",
       "      <th>clnt_tenure_yr</th>\n",
       "      <th>clnt_tenure_mnth</th>\n",
       "      <th>clnt_age</th>\n",
       "      <th>gendr</th>\n",
       "      <th>num_accts</th>\n",
       "      <th>bal</th>\n",
       "      <th>calls_6_mnth</th>\n",
       "      <th>logons_6_mnth</th>\n",
       "      <th>age_category</th>\n",
       "    </tr>\n",
       "  </thead>\n",
       "  <tbody>\n",
       "    <tr>\n",
       "      <th>0</th>\n",
       "      <td>836976</td>\n",
       "      <td>6.0</td>\n",
       "      <td>73.0</td>\n",
       "      <td>60.5</td>\n",
       "      <td>U</td>\n",
       "      <td>2.0</td>\n",
       "      <td>45105.30</td>\n",
       "      <td>6.0</td>\n",
       "      <td>9.0</td>\n",
       "      <td>60+</td>\n",
       "    </tr>\n",
       "    <tr>\n",
       "      <th>1</th>\n",
       "      <td>2304905</td>\n",
       "      <td>7.0</td>\n",
       "      <td>94.0</td>\n",
       "      <td>58.0</td>\n",
       "      <td>U</td>\n",
       "      <td>2.0</td>\n",
       "      <td>110860.30</td>\n",
       "      <td>6.0</td>\n",
       "      <td>9.0</td>\n",
       "      <td>30-60</td>\n",
       "    </tr>\n",
       "    <tr>\n",
       "      <th>2</th>\n",
       "      <td>1439522</td>\n",
       "      <td>5.0</td>\n",
       "      <td>64.0</td>\n",
       "      <td>32.0</td>\n",
       "      <td>U</td>\n",
       "      <td>2.0</td>\n",
       "      <td>52467.79</td>\n",
       "      <td>6.0</td>\n",
       "      <td>9.0</td>\n",
       "      <td>30-60</td>\n",
       "    </tr>\n",
       "    <tr>\n",
       "      <th>3</th>\n",
       "      <td>1562045</td>\n",
       "      <td>16.0</td>\n",
       "      <td>198.0</td>\n",
       "      <td>49.0</td>\n",
       "      <td>M</td>\n",
       "      <td>2.0</td>\n",
       "      <td>67454.65</td>\n",
       "      <td>3.0</td>\n",
       "      <td>6.0</td>\n",
       "      <td>30-60</td>\n",
       "    </tr>\n",
       "    <tr>\n",
       "      <th>4</th>\n",
       "      <td>5126305</td>\n",
       "      <td>12.0</td>\n",
       "      <td>145.0</td>\n",
       "      <td>33.0</td>\n",
       "      <td>F</td>\n",
       "      <td>2.0</td>\n",
       "      <td>103671.75</td>\n",
       "      <td>0.0</td>\n",
       "      <td>3.0</td>\n",
       "      <td>30-60</td>\n",
       "    </tr>\n",
       "  </tbody>\n",
       "</table>\n",
       "</div>"
      ],
      "text/plain": [
       "   client_id  clnt_tenure_yr  clnt_tenure_mnth  clnt_age gendr  num_accts  \\\n",
       "0     836976             6.0              73.0      60.5     U        2.0   \n",
       "1    2304905             7.0              94.0      58.0     U        2.0   \n",
       "2    1439522             5.0              64.0      32.0     U        2.0   \n",
       "3    1562045            16.0             198.0      49.0     M        2.0   \n",
       "4    5126305            12.0             145.0      33.0     F        2.0   \n",
       "\n",
       "         bal  calls_6_mnth  logons_6_mnth age_category  \n",
       "0   45105.30           6.0            9.0          60+  \n",
       "1  110860.30           6.0            9.0        30-60  \n",
       "2   52467.79           6.0            9.0        30-60  \n",
       "3   67454.65           3.0            6.0        30-60  \n",
       "4  103671.75           0.0            3.0        30-60  "
      ]
     },
     "execution_count": 38,
     "metadata": {
     },
     "output_type": "execute_result"
    }
   ],
   "source": [
    "bins = [0, 30, 60, 100]\n",
    "labels = ['13-30', '30-60', '60+']\n",
    "\n",
    "df_final_demo['age_category'] = pd.cut(df_final_demo['clnt_age'], bins=bins, labels = labels, right = False)\n",
    "df_final_demo.head()"
   ]
  },
  {
   "cell_type": "code",
   "execution_count": 39,
   "metadata": {
    "collapsed": false
   },
   "outputs": [
    {
     "data": {
      "text/plain": [
       "<Axes: xlabel='age_category'>"
      ]
     },
     "execution_count": 39,
     "metadata": {
     },
     "output_type": "execute_result"
    },
    {
     "data": {
      "image/png": "[encoded data removed]",
      "text/plain": [
       "<Figure size 432x288 with 1 Axes>"
      ]
     },
     "execution_count": 39,
     "metadata": {
      "image/png": {
       "height": 261,
       "width": 388
      },
      "needs_background": "light"
     },
     "output_type": "execute_result"
    }
   ],
   "source": [
    "sns.barplot(x=df_final_demo['age_category'].value_counts().index, y = df_final_demo['age_category'].value_counts().values)"
   ]
  },
  {
   "cell_type": "code",
   "execution_count": 40,
   "metadata": {
    "collapsed": false
   },
   "outputs": [
    {
     "data": {
      "text/plain": [
       "([<matplotlib.axis.XTick at 0x7f22d0985a20>,\n",
       "  <matplotlib.axis.XTick at 0x7f22d09859f0>,\n",
       "  <matplotlib.axis.XTick at 0x7f22d0985c30>],\n",
       " [Text(0.0, 0, 'U'), Text(1.0, 0, 'M'), Text(2.0, 0, 'F')])"
      ]
     },
     "execution_count": 40,
     "metadata": {
     },
     "output_type": "execute_result"
    },
    {
     "data": {
      "image/png": "[encoded data removed]",
      "text/plain": [
       "<Figure size 432x288 with 1 Axes>"
      ]
     },
     "execution_count": 40,
     "metadata": {
      "image/png": {
       "height": 262,
       "width": 388
      },
      "needs_background": "light"
     },
     "output_type": "execute_result"
    }
   ],
   "source": [
    "# comparason of clients based on GENDER\n",
    "\n",
    "sns.barplot(x=df_final_demo['gendr'].value_counts().index, y = df_final_demo['gendr'].value_counts().values)\n",
    "\n",
    "# hide X column\n",
    "plt.xticks(ticks=['U', 'M', 'F'])\n"
   ]
  },
  {
   "cell_type": "code",
   "execution_count": 41,
   "metadata": {
    "collapsed": false
   },
   "outputs": [
    {
     "data": {
      "text/html": [
       "<div>\n",
       "<style scoped>\n",
       "    .dataframe tbody tr th:only-of-type {\n",
       "        vertical-align: middle;\n",
       "    }\n",
       "\n",
       "    .dataframe tbody tr th {\n",
       "        vertical-align: top;\n",
       "    }\n",
       "\n",
       "    .dataframe thead th {\n",
       "        text-align: right;\n",
       "    }\n",
       "</style>\n",
       "<table border=\"1\" class=\"dataframe\">\n",
       "  <thead>\n",
       "    <tr style=\"text-align: right;\">\n",
       "      <th>age_category</th>\n",
       "      <th>logons_6_mnth</th>\n",
       "      <th>13-30</th>\n",
       "      <th>30-60</th>\n",
       "      <th>60+</th>\n",
       "    </tr>\n",
       "  </thead>\n",
       "  <tbody>\n",
       "    <tr>\n",
       "      <th>0</th>\n",
       "      <td>1.0</td>\n",
       "      <td>691</td>\n",
       "      <td>1883</td>\n",
       "      <td>364</td>\n",
       "    </tr>\n",
       "    <tr>\n",
       "      <th>1</th>\n",
       "      <td>2.0</td>\n",
       "      <td>740</td>\n",
       "      <td>1837</td>\n",
       "      <td>432</td>\n",
       "    </tr>\n",
       "    <tr>\n",
       "      <th>2</th>\n",
       "      <td>3.0</td>\n",
       "      <td>1828</td>\n",
       "      <td>6582</td>\n",
       "      <td>1833</td>\n",
       "    </tr>\n",
       "    <tr>\n",
       "      <th>3</th>\n",
       "      <td>4.0</td>\n",
       "      <td>1918</td>\n",
       "      <td>6270</td>\n",
       "      <td>2032</td>\n",
       "    </tr>\n",
       "    <tr>\n",
       "      <th>4</th>\n",
       "      <td>5.0</td>\n",
       "      <td>1633</td>\n",
       "      <td>5379</td>\n",
       "      <td>2242</td>\n",
       "    </tr>\n",
       "    <tr>\n",
       "      <th>5</th>\n",
       "      <td>6.0</td>\n",
       "      <td>1378</td>\n",
       "      <td>4427</td>\n",
       "      <td>2073</td>\n",
       "    </tr>\n",
       "    <tr>\n",
       "      <th>6</th>\n",
       "      <td>7.0</td>\n",
       "      <td>2062</td>\n",
       "      <td>5335</td>\n",
       "      <td>2495</td>\n",
       "    </tr>\n",
       "    <tr>\n",
       "      <th>7</th>\n",
       "      <td>8.0</td>\n",
       "      <td>745</td>\n",
       "      <td>2701</td>\n",
       "      <td>1364</td>\n",
       "    </tr>\n",
       "    <tr>\n",
       "      <th>8</th>\n",
       "      <td>9.0</td>\n",
       "      <td>2304</td>\n",
       "      <td>6662</td>\n",
       "      <td>3384</td>\n",
       "    </tr>\n",
       "  </tbody>\n",
       "</table>\n",
       "</div>"
      ],
      "text/plain": [
       "age_category  logons_6_mnth  13-30  30-60   60+\n",
       "0                       1.0    691   1883   364\n",
       "1                       2.0    740   1837   432\n",
       "2                       3.0   1828   6582  1833\n",
       "3                       4.0   1918   6270  2032\n",
       "4                       5.0   1633   5379  2242\n",
       "5                       6.0   1378   4427  2073\n",
       "6                       7.0   2062   5335  2495\n",
       "7                       8.0    745   2701  1364\n",
       "8                       9.0   2304   6662  3384"
      ]
     },
     "execution_count": 41,
     "metadata": {
     },
     "output_type": "execute_result"
    }
   ],
   "source": [
    "crosstab_age_logons = pd.crosstab(df_final_demo['logons_6_mnth'], df_final_demo['age_category'])\n",
    "pd.DataFrame(crosstab_age_logons.reset_index())\n",
    "# crosstab_age_logons.index_key()"
   ]
  },
  {
   "cell_type": "code",
   "execution_count": 42,
   "metadata": {
    "collapsed": false
   },
   "outputs": [
   ],
   "source": [
    "df_final_demo.to_csv('df_final_demo1.csv', index=False)"
   ]
  },
  {
   "cell_type": "code",
   "execution_count": 43,
   "metadata": {
    "collapsed": false
   },
   "outputs": [
    {
     "data": {
      "text/plain": [
       "<Axes: xlabel='logons_6_mnth'>"
      ]
     },
     "execution_count": 43,
     "metadata": {
     },
     "output_type": "execute_result"
    },
    {
     "data": {
      "image/png": "[encoded data removed]",
      "text/plain": [
       "<Figure size 432x288 with 1 Axes>"
      ]
     },
     "execution_count": 43,
     "metadata": {
      "image/png": {
       "height": 268,
       "width": 388
      },
      "needs_background": "light"
     },
     "output_type": "execute_result"
    }
   ],
   "source": [
    "#category 30-60 seems to have the highest logons the past 6 months\n",
    "\n",
    "crosstab_age_logons.plot(kind='bar', stacked=True)\n"
   ]
  },
  {
   "cell_type": "code",
   "execution_count": 44,
   "metadata": {
    "collapsed": false
   },
   "outputs": [
    {
     "data": {
      "text/plain": [
       "<Axes: xlabel='age_category', ylabel='logons_6_mnth'>"
      ]
     },
     "execution_count": 44,
     "metadata": {
     },
     "output_type": "execute_result"
    },
    {
     "data": {
      "image/png": "[encoded data removed]",
      "text/plain": [
       "<Figure size 432x288 with 2 Axes>"
      ]
     },
     "execution_count": 44,
     "metadata": {
      "image/png": {
       "height": 261,
       "width": 373
      },
      "needs_background": "light"
     },
     "output_type": "execute_result"
    }
   ],
   "source": [
    "# heatmap also confirms that most of logons belongs to 30-60 of age\n",
    "\n",
    "sns.heatmap(data=crosstab_age_logons, annot=True, cmap=\"YlGnBu\", fmt=\"d\")"
   ]
  },
  {
   "cell_type": "code",
   "execution_count": 45,
   "metadata": {
    "collapsed": false
   },
   "outputs": [
    {
     "data": {
      "text/plain": [
       "Text(0.5, 1.0, 'Logons Per Person in Past 6 Months')"
      ]
     },
     "execution_count": 45,
     "metadata": {
     },
     "output_type": "execute_result"
    },
    {
     "data": {
      "image/png": "[encoded data removed]",
      "text/plain": [
       "<Figure size 432x288 with 1 Axes>"
      ]
     },
     "execution_count": 45,
     "metadata": {
      "image/png": {
       "height": 283,
       "width": 362
      },
      "needs_background": "light"
     },
     "output_type": "execute_result"
    }
   ],
   "source": [
    "#Calculate each age range logins per person\n",
    "\n",
    "login_per_person = pd.DataFrame()\n",
    "\n",
    "login_per_person['30-60'] = pd.DataFrame(crosstab_age_logons['13-30'].index * crosstab_age_logons['13-30'].values).sum() / df_final_demo[df_final_demo['age_category'] == '13-30']['client_id'].count()\n",
    "\n",
    "login_per_person['13-30'] = pd.DataFrame(crosstab_age_logons['13-30'].index * crosstab_age_logons['30-60'].values).sum() / df_final_demo[df_final_demo['age_category'] == '30-60']['client_id'].count()\n",
    "\n",
    "login_per_person['60+'] = pd.DataFrame(crosstab_age_logons['13-30'].index * crosstab_age_logons['60+'].values).sum() / df_final_demo[df_final_demo['age_category'] == '60+']['client_id'].count()\n",
    "\n",
    "login_per_person = login_per_person.transpose()\n",
    "\n",
    "ax = login_per_person.plot(kind='bar')\n",
    "plt.title('Logons Per Person in Past 6 Months')\n",
    "\n"
   ]
  },
  {
   "cell_type": "code",
   "execution_count": 46,
   "metadata": {
    "collapsed": false
   },
   "outputs": [
    {
     "data": {
      "text/plain": [
       "Text(0.5, 1.0, 'Mean Balance for Each Logon Category')"
      ]
     },
     "execution_count": 46,
     "metadata": {
     },
     "output_type": "execute_result"
    },
    {
     "data": {
      "image/png": "[encoded data removed]",
      "text/plain": [
       "<Figure size 432x288 with 1 Axes>"
      ]
     },
     "execution_count": 46,
     "metadata": {
      "image/png": {
       "height": 277,
       "width": 408
      },
      "needs_background": "light"
     },
     "output_type": "execute_result"
    }
   ],
   "source": [
    "mean_balances = df_final_demo.groupby('logons_6_mnth')['bal'].mean().reset_index()\n",
    "\n",
    "# Plotting the scatter plot with mean values\n",
    "sns.barplot(data=mean_balances, x='logons_6_mnth', y='bal')\n",
    "plt.title('Mean Balance for Each Logon Category')\n",
    "\n",
    "# plt.show()"
   ]
  },
  {
   "cell_type": "code",
   "execution_count": 0,
   "metadata": {
    "collapsed": false
   },
   "outputs": [
   ],
   "source": [
   ]
  },
  {
   "cell_type": "markdown",
   "metadata": {
    "collapsed": false
   },
   "source": [
    "### Completion Rate: The proportion of users who reach the final ‘confirm’ step.\n",
    "\n"
   ]
  },
  {
   "cell_type": "code",
   "execution_count": 47,
   "metadata": {
    "collapsed": false
   },
   "outputs": [
    {
     "data": {
      "text/plain": [
       "81145"
      ]
     },
     "execution_count": 47,
     "metadata": {
     },
     "output_type": "execute_result"
    }
   ],
   "source": [
    "# number of unique clients reached CONFIRM 81145\n",
    "\n",
    "df_final_web_data[df_final_web_data['process_step'] == 'confirm']['client_id'].nunique()"
   ]
  },
  {
   "cell_type": "code",
   "execution_count": 48,
   "metadata": {
    "collapsed": false
   },
   "outputs": [
    {
     "data": {
      "text/plain": [
       "120157"
      ]
     },
     "execution_count": 48,
     "metadata": {
     },
     "output_type": "execute_result"
    }
   ],
   "source": [
    "# number of total unique client \n",
    "df_final_web_data['client_id'].nunique()"
   ]
  },
  {
   "cell_type": "code",
   "execution_count": 49,
   "metadata": {
    "collapsed": false
   },
   "outputs": [
    {
     "data": {
      "text/plain": [
       "([<matplotlib.patches.Wedge at 0x7f22cfeaa200>,\n",
       "  <matplotlib.patches.Wedge at 0x7f22cfcfdd80>],\n",
       " [Text(-1.049423797902226, 0.3297115290620999, 'Others'),\n",
       "  Text(1.0494238287720428, -0.3297114308079512, 'Client Reached Confirm')],\n",
       " [Text(-0.5724129806739414, 0.17984265221569085, '40.3%'),\n",
       "  Text(0.5724129975120232, -0.1798425986225188, '59.7%')])"
      ]
     },
     "execution_count": 49,
     "metadata": {
     },
     "output_type": "execute_result"
    },
    {
     "data": {
      "image/png": "[encoded data removed]",
      "text/plain": [
       "<Figure size 432x288 with 1 Axes>"
      ]
     },
     "execution_count": 49,
     "metadata": {
      "image/png": {
       "height": 231,
       "width": 349
      }
     },
     "output_type": "execute_result"
    }
   ],
   "source": [
    "sizes = [df_final_web_data[df_final_web_data['process_step'] == 'confirm']['client_id'].nunique(), df_final_web_data['client_id'].nunique()]\n",
    "labels = ['Others', 'Client Reached Confirm']\n",
    "plt.pie(sizes,autopct='%1.1f%%', labels = labels, startangle=90)\n"
   ]
  },
  {
   "cell_type": "markdown",
   "metadata": {
    "collapsed": false
   },
   "source": [
    "### Completion Rate with a Cost-Effectiveness Threshold (Hypothesis Test)\n",
    "\n",
    "The introduction of a new UI design comes with its associated costs: design, development, testing, potential training for staff, and possible short\\-term disruptions or adjustments for users. To justify these costs, Vanguard has determined that any new design should lead to a minimum increase in the completion rate to be deemed cost\\-effective.\n",
    "\n",
    "Threshold: Vanguard has set this minimum increase in completion rate at 5%. This is the rate at which the projected benefits, in terms of increased user engagement and potential revenue, are estimated to outweigh the costs of the new design.\n",
    "\n",
    "You are required to carry out another analysis, ensuring that the observed increase in completion rate from the A/B test meets or exceeds this 5% threshold. If the new design doesn’t lead to at least this level of improvement, it may not be justifiable from a cost perspective, regardless of its statistical significance.\n"
   ]
  },
  {
   "cell_type": "code",
   "execution_count": 50,
   "metadata": {
    "collapsed": false
   },
   "outputs": [
    {
     "data": {
      "text/html": [
       "<div>\n",
       "<style scoped>\n",
       "    .dataframe tbody tr th:only-of-type {\n",
       "        vertical-align: middle;\n",
       "    }\n",
       "\n",
       "    .dataframe tbody tr th {\n",
       "        vertical-align: top;\n",
       "    }\n",
       "\n",
       "    .dataframe thead th {\n",
       "        text-align: right;\n",
       "    }\n",
       "</style>\n",
       "<table border=\"1\" class=\"dataframe\">\n",
       "  <thead>\n",
       "    <tr style=\"text-align: right;\">\n",
       "      <th></th>\n",
       "      <th>client_id</th>\n",
       "      <th>no_of_visits</th>\n",
       "      <th>is_confirmed</th>\n",
       "      <th>duration</th>\n",
       "      <th>had_error</th>\n",
       "      <th>error_count</th>\n",
       "      <th>no_of_confirms</th>\n",
       "      <th>number_steps</th>\n",
       "      <th>variation</th>\n",
       "    </tr>\n",
       "  </thead>\n",
       "  <tbody>\n",
       "    <tr>\n",
       "      <th>0</th>\n",
       "      <td>169</td>\n",
       "      <td>1</td>\n",
       "      <td>True</td>\n",
       "      <td>0 days 00:00:53.250000</td>\n",
       "      <td>False</td>\n",
       "      <td>0</td>\n",
       "      <td>1</td>\n",
       "      <td>5</td>\n",
       "      <td>Unknown</td>\n",
       "    </tr>\n",
       "    <tr>\n",
       "      <th>1</th>\n",
       "      <td>336</td>\n",
       "      <td>1</td>\n",
       "      <td>False</td>\n",
       "      <td>0 days 00:15:48</td>\n",
       "      <td>False</td>\n",
       "      <td>0</td>\n",
       "      <td>0</td>\n",
       "      <td>1</td>\n",
       "      <td>Unknown</td>\n",
       "    </tr>\n",
       "    <tr>\n",
       "      <th>2</th>\n",
       "      <td>546</td>\n",
       "      <td>1</td>\n",
       "      <td>True</td>\n",
       "      <td>0 days 00:00:33.250000</td>\n",
       "      <td>False</td>\n",
       "      <td>0</td>\n",
       "      <td>1</td>\n",
       "      <td>5</td>\n",
       "      <td>Unknown</td>\n",
       "    </tr>\n",
       "    <tr>\n",
       "      <th>3</th>\n",
       "      <td>555</td>\n",
       "      <td>1</td>\n",
       "      <td>True</td>\n",
       "      <td>0 days 00:00:39.500000</td>\n",
       "      <td>False</td>\n",
       "      <td>0</td>\n",
       "      <td>1</td>\n",
       "      <td>5</td>\n",
       "      <td>Test</td>\n",
       "    </tr>\n",
       "    <tr>\n",
       "      <th>4</th>\n",
       "      <td>647</td>\n",
       "      <td>1</td>\n",
       "      <td>True</td>\n",
       "      <td>0 days 00:01:34.250000</td>\n",
       "      <td>False</td>\n",
       "      <td>0</td>\n",
       "      <td>1</td>\n",
       "      <td>5</td>\n",
       "      <td>Test</td>\n",
       "    </tr>\n",
       "  </tbody>\n",
       "</table>\n",
       "</div>"
      ],
      "text/plain": [
       "   client_id  no_of_visits  is_confirmed               duration  had_error  \\\n",
       "0        169             1          True 0 days 00:00:53.250000      False   \n",
       "1        336             1         False        0 days 00:15:48      False   \n",
       "2        546             1          True 0 days 00:00:33.250000      False   \n",
       "3        555             1          True 0 days 00:00:39.500000      False   \n",
       "4        647             1          True 0 days 00:01:34.250000      False   \n",
       "\n",
       "   error_count  no_of_confirms  number_steps variation  \n",
       "0            0               1             5   Unknown  \n",
       "1            0               0             1   Unknown  \n",
       "2            0               1             5   Unknown  \n",
       "3            0               1             5      Test  \n",
       "4            0               1             5      Test  "
      ]
     },
     "execution_count": 50,
     "metadata": {
     },
     "output_type": "execute_result"
    }
   ],
   "source": [
    "web_data_summary_experiment.head()"
   ]
  },
  {
   "cell_type": "code",
   "execution_count": 51,
   "metadata": {
    "collapsed": false
   },
   "outputs": [
    {
     "data": {
      "text/plain": [
       "(23532, 26968)"
      ]
     },
     "execution_count": 51,
     "metadata": {
     },
     "output_type": "execute_result"
    }
   ],
   "source": [
    "# COMPLETION RATE FROM CONTROL TO TEST. CALCULATE PERCENTAGE INCREASE\n",
    "\n",
    "c_data1 = web_data_summary_experiment.loc[web_data_summary_experiment[\"variation\"] == \"Control\"][\"is_confirmed\"]\n",
    "t_data1 = web_data_summary_experiment.loc[web_data_summary_experiment[\"variation\"] == \"Test\"][\"is_confirmed\"]\n",
    "c_data1.count(), t_data1.count()\n",
    "\n",
    "# print(f\"completion rate increase (23532 > 26968): {((t_data1.count() - c_data1.count()) / c_data1.count()) * 100} %\")"
   ]
  },
  {
   "cell_type": "code",
   "execution_count": 52,
   "metadata": {
    "collapsed": false
   },
   "outputs": [
   ],
   "source": [
    "# c_data1\n",
    "\n"
   ]
  },
  {
   "cell_type": "code",
   "execution_count": 53,
   "metadata": {
    "collapsed": false
   },
   "outputs": [
    {
     "data": {
      "text/html": [
       "<div>\n",
       "<style scoped>\n",
       "    .dataframe tbody tr th:only-of-type {\n",
       "        vertical-align: middle;\n",
       "    }\n",
       "\n",
       "    .dataframe tbody tr th {\n",
       "        vertical-align: top;\n",
       "    }\n",
       "\n",
       "    .dataframe thead th {\n",
       "        text-align: right;\n",
       "    }\n",
       "</style>\n",
       "<table border=\"1\" class=\"dataframe\">\n",
       "  <thead>\n",
       "    <tr style=\"text-align: right;\">\n",
       "      <th></th>\n",
       "      <th>client_id</th>\n",
       "      <th>no_of_visits</th>\n",
       "      <th>is_confirmed</th>\n",
       "      <th>duration</th>\n",
       "      <th>had_error</th>\n",
       "      <th>error_count</th>\n",
       "      <th>no_of_confirms</th>\n",
       "      <th>number_steps</th>\n",
       "      <th>variation</th>\n",
       "    </tr>\n",
       "  </thead>\n",
       "  <tbody>\n",
       "    <tr>\n",
       "      <th>0</th>\n",
       "      <td>169</td>\n",
       "      <td>1</td>\n",
       "      <td>True</td>\n",
       "      <td>0 days 00:00:53.250000</td>\n",
       "      <td>False</td>\n",
       "      <td>0</td>\n",
       "      <td>1</td>\n",
       "      <td>5</td>\n",
       "      <td>Unknown</td>\n",
       "    </tr>\n",
       "    <tr>\n",
       "      <th>1</th>\n",
       "      <td>336</td>\n",
       "      <td>1</td>\n",
       "      <td>False</td>\n",
       "      <td>0 days 00:15:48</td>\n",
       "      <td>False</td>\n",
       "      <td>0</td>\n",
       "      <td>0</td>\n",
       "      <td>1</td>\n",
       "      <td>Unknown</td>\n",
       "    </tr>\n",
       "    <tr>\n",
       "      <th>2</th>\n",
       "      <td>546</td>\n",
       "      <td>1</td>\n",
       "      <td>True</td>\n",
       "      <td>0 days 00:00:33.250000</td>\n",
       "      <td>False</td>\n",
       "      <td>0</td>\n",
       "      <td>1</td>\n",
       "      <td>5</td>\n",
       "      <td>Unknown</td>\n",
       "    </tr>\n",
       "    <tr>\n",
       "      <th>3</th>\n",
       "      <td>555</td>\n",
       "      <td>1</td>\n",
       "      <td>True</td>\n",
       "      <td>0 days 00:00:39.500000</td>\n",
       "      <td>False</td>\n",
       "      <td>0</td>\n",
       "      <td>1</td>\n",
       "      <td>5</td>\n",
       "      <td>Test</td>\n",
       "    </tr>\n",
       "    <tr>\n",
       "      <th>4</th>\n",
       "      <td>647</td>\n",
       "      <td>1</td>\n",
       "      <td>True</td>\n",
       "      <td>0 days 00:01:34.250000</td>\n",
       "      <td>False</td>\n",
       "      <td>0</td>\n",
       "      <td>1</td>\n",
       "      <td>5</td>\n",
       "      <td>Test</td>\n",
       "    </tr>\n",
       "  </tbody>\n",
       "</table>\n",
       "</div>"
      ],
      "text/plain": [
       "   client_id  no_of_visits  is_confirmed               duration  had_error  \\\n",
       "0        169             1          True 0 days 00:00:53.250000      False   \n",
       "1        336             1         False        0 days 00:15:48      False   \n",
       "2        546             1          True 0 days 00:00:33.250000      False   \n",
       "3        555             1          True 0 days 00:00:39.500000      False   \n",
       "4        647             1          True 0 days 00:01:34.250000      False   \n",
       "\n",
       "   error_count  no_of_confirms  number_steps variation  \n",
       "0            0               1             5   Unknown  \n",
       "1            0               0             1   Unknown  \n",
       "2            0               1             5   Unknown  \n",
       "3            0               1             5      Test  \n",
       "4            0               1             5      Test  "
      ]
     },
     "execution_count": 53,
     "metadata": {
     },
     "output_type": "execute_result"
    }
   ],
   "source": [
    "web_data_summary_experiment.head()"
   ]
  },
  {
   "cell_type": "code",
   "execution_count": 54,
   "metadata": {
    "collapsed": false
   },
   "outputs": [
   ],
   "source": [
    "# t_data1.mean()"
   ]
  },
  {
   "cell_type": "code",
   "execution_count": 55,
   "metadata": {
    "collapsed": false
   },
   "outputs": [
    {
     "name": "stdout",
     "output_type": "stream",
     "text": [
      "p-value: 0.0 Reject the null hypothesis. The new design is cost-effective.\n"
     ]
    }
   ],
   "source": [
    "import numpy as np\n",
    "from statsmodels.stats.proportion import proportions_ztest\n",
    "\n",
    "# Provided data\n",
    "clients_test_version = t_data1.count() # 26968\n",
    "clients_control_version = c_data1.count() # 23532\n",
    "\n",
    "# Completion rates\n",
    "completion_rate_control = 0.6559\n",
    "completion_rate_test = 0.6929\n",
    "\n",
    "# Calculate observed successes for the test version\n",
    "observed_successes_test = int(completion_rate_test * clients_test_version)\n",
    "\n",
    "# Total observations for the test version\n",
    "total_obs_test = clients_test_version\n",
    "\n",
    "# Threshold for cost-effectiveness\n",
    "threshold = 0.05\n",
    "\n",
    "# Perform the one-sample proportion test\n",
    "stat, p_value = proportions_ztest(observed_successes_test, total_obs_test, threshold)\n",
    "\n",
    "# Set significance level\n",
    "alpha = 0.05\n",
    "\n",
    "# Interpret Results\n",
    "if p_value < alpha:\n",
    "    print(f\"p-value: {p_value} Reject the null hypothesis. The new design is cost-effective.\")\n",
    "else:\n",
    "    print(\"Fail to reject the null hypothesis. The new design may not be cost-effective.\")\n"
   ]
  },
  {
   "cell_type": "code",
   "execution_count": 56,
   "metadata": {
    "collapsed": false
   },
   "outputs": [
    {
     "name": "stdout",
     "output_type": "stream",
     "text": [
      "Control and Test Means 0.6558728539860615 0.6929323642835954\n",
      "\n",
      "## Is the difference in the confirmation rates statistically significant? ##\n",
      "P-Value for proportial z-test between control and test group:  7.023933247581432e-19\n",
      "- We reject the null hypothesis (confirmation rates are the same)\n",
      "- and have high confidence the difference in completion rates between the groups are significantly different\n",
      "\n",
      "## Are we confident the test group has a completion rate 5% better than the control? ##\n",
      "P-Value for greater proportial z-test vs control mean * 1.05:  0.06442020077768941\n",
      "- We can not reject the null hypothesis (test confirmation rate is 5% higher)\n",
      "- not confident we will see a 5% lift should we implement the changes\n"
     ]
    }
   ],
   "source": [
    "from statsmodels.stats.proportion import proportions_ztest\n",
    "# from statsmodels.stats.proportion import proportions_ztest\n",
    "df = web_data_summary_experiment\n",
    "\n",
    "confirmed_c = df[df['variation'] == 'Control']['is_confirmed'].sum()\n",
    "confirmed_t = df[df['variation'] == 'Test']['is_confirmed'].sum()\n",
    "nobs_c = df[df['variation'] == 'Control']['is_confirmed'].count()\n",
    "nobs_t = df[df['variation'] == 'Test']['is_confirmed'].count()\n",
    "\n",
    "\n",
    "print('Control and Test Means', df[df['variation'] == 'Control']['is_confirmed'].mean(), df[df['variation'] == 'Test']['is_confirmed'].mean())\n",
    "print()\n",
    "\n",
    "# our our control and test group proportions statistically significally different\n",
    "print('## Is the difference in the confirmation rates statistically significant? ##')\n",
    "\n",
    "result = proportions_ztest([confirmed_c, confirmed_t], [nobs_c, nobs_t], alternative='two-sided')\n",
    "\n",
    "print('P-Value for proportial z-test between control and test group: ', result[1])\n",
    "print('- We reject the null hypothesis (confirmation rates are the same)')\n",
    "print('- and have high confidence the difference in completion rates between the groups are significantly different')\n",
    "print()\n",
    "\n",
    "p_hat = df[df['variation'] == 'Test']['is_confirmed'].mean()\n",
    "p_0 = df[df['variation'] == 'Control']['is_confirmed'].mean() * 1.05\n",
    "p_0b = df[df['variation'] == 'Control']['is_confirmed'].mean() \n",
    "\n",
    "print('## Are we confident the test group has a completion rate 5% better than the control? ##')\n",
    "\n",
    "result = proportions_ztest(confirmed_t, nobs_t, value=p_0, alternative='larger')\n",
    "\n",
    "print('P-Value for greater proportial z-test vs control mean * 1.05: ', result[1])\n",
    "print('- We can not reject the null hypothesis (test confirmation rate is 5% higher)')\n",
    "print('- not confident we will see a 5% lift should we implement the changes')"
   ]
  },
  {
   "cell_type": "code",
   "execution_count": 3,
   "metadata": {
    "collapsed": false
   },
   "outputs": [
    {
     "ename": "NameError",
     "evalue": "name 'web_data_summary_experiment' is not defined",
     "output_type": "error",
     "traceback": [
      "\u001b[0;31m---------------------------------------------------------------------------\u001b[0m",
      "\u001b[0;31mNameError\u001b[0m                                 Traceback (most recent call last)",
      "\u001b[0;32m/tmp/ipykernel_227/3619185036.py\u001b[0m in \u001b[0;36m<cell line: 3>\u001b[0;34m()\u001b[0m\n\u001b[1;32m      1\u001b[0m \u001b[0;32mfrom\u001b[0m \u001b[0mstatsmodels\u001b[0m\u001b[0;34m.\u001b[0m\u001b[0mstats\u001b[0m\u001b[0;34m.\u001b[0m\u001b[0mproportion\u001b[0m \u001b[0;32mimport\u001b[0m \u001b[0mproportions_ztest\u001b[0m\u001b[0;34m\u001b[0m\u001b[0;34m\u001b[0m\u001b[0m\n\u001b[1;32m      2\u001b[0m \u001b[0;31m# from statsmodels.stats.proportion import proportions_ztest\u001b[0m\u001b[0;34m\u001b[0m\u001b[0;34m\u001b[0m\u001b[0m\n\u001b[0;32m----> 3\u001b[0;31m \u001b[0mdf\u001b[0m \u001b[0;34m=\u001b[0m \u001b[0mweb_data_summary_experiment\u001b[0m\u001b[0;34m\u001b[0m\u001b[0;34m\u001b[0m\u001b[0m\n\u001b[0m\u001b[1;32m      4\u001b[0m \u001b[0;34m\u001b[0m\u001b[0m\n\u001b[1;32m      5\u001b[0m \u001b[0mconfirmed_c\u001b[0m \u001b[0;34m=\u001b[0m \u001b[0mdf\u001b[0m\u001b[0;34m[\u001b[0m\u001b[0mdf\u001b[0m\u001b[0;34m[\u001b[0m\u001b[0;34m'variation'\u001b[0m\u001b[0;34m]\u001b[0m \u001b[0;34m==\u001b[0m \u001b[0;34m'Control'\u001b[0m\u001b[0;34m]\u001b[0m\u001b[0;34m[\u001b[0m\u001b[0;34m'is_confirmed'\u001b[0m\u001b[0;34m]\u001b[0m\u001b[0;34m.\u001b[0m\u001b[0msum\u001b[0m\u001b[0;34m(\u001b[0m\u001b[0;34m)\u001b[0m\u001b[0;34m\u001b[0m\u001b[0;34m\u001b[0m\u001b[0m\n",
      "\u001b[0;31mNameError\u001b[0m: name 'web_data_summary_experiment' is not defined"
     ]
    }
   ],
   "source": [
    "from statsmodels.stats.proportion import proportions_ztest\n",
    "# from statsmodels.stats.proportion import proportions_ztest\n",
    "df = web_data_summary_experiment\n",
    "\n",
    "confirmed_c = df[df['variation'] == 'Control']['is_confirmed'].sum()\n",
    "confirmed_t = df[df['variation'] == 'Test']['is_confirmed'].sum()\n",
    "nobs_c = df[df['variation'] == 'Control']['is_confirmed'].count()\n",
    "nobs_t = df[df['variation'] == 'Test']['is_confirmed'].count()\n",
    "\n",
    "\n",
    "\n",
    "p_hat = df[df['variation'] == 'Test']['is_confirmed'].mean()\n",
    "p_0 = df[df['variation'] == 'Control']['is_confirmed'].mean() * 1.05\n",
    "p_0b = df[df['variation'] == 'Control']['is_confirmed'].mean() \n",
    "\n",
    "print('## Are we confident the test group has a completion rate 5% better than the control? ##')\n",
    "\n",
    "result = proportions_ztest(confirmed_t, nobs_t, value=p_0, alternative='larger')\n",
    "result"
   ]
  },
  {
   "cell_type": "code",
   "execution_count": 56,
   "metadata": {
    "collapsed": false
   },
   "outputs": [
    {
     "data": {
      "text/html": [
       "<div>\n",
       "<style scoped>\n",
       "    .dataframe tbody tr th:only-of-type {\n",
       "        vertical-align: middle;\n",
       "    }\n",
       "\n",
       "    .dataframe tbody tr th {\n",
       "        vertical-align: top;\n",
       "    }\n",
       "\n",
       "    .dataframe thead th {\n",
       "        text-align: right;\n",
       "    }\n",
       "</style>\n",
       "<table border=\"1\" class=\"dataframe\">\n",
       "  <thead>\n",
       "    <tr style=\"text-align: right;\">\n",
       "      <th></th>\n",
       "      <th>client_id</th>\n",
       "      <th>gendr</th>\n",
       "      <th>variation</th>\n",
       "    </tr>\n",
       "  </thead>\n",
       "  <tbody>\n",
       "    <tr>\n",
       "      <th>0</th>\n",
       "      <td>836976</td>\n",
       "      <td>U</td>\n",
       "      <td>Test</td>\n",
       "    </tr>\n",
       "    <tr>\n",
       "      <th>1</th>\n",
       "      <td>2304905</td>\n",
       "      <td>U</td>\n",
       "      <td>Control</td>\n",
       "    </tr>\n",
       "    <tr>\n",
       "      <th>2</th>\n",
       "      <td>1439522</td>\n",
       "      <td>U</td>\n",
       "      <td>Test</td>\n",
       "    </tr>\n",
       "    <tr>\n",
       "      <th>3</th>\n",
       "      <td>1562045</td>\n",
       "      <td>M</td>\n",
       "      <td>Test</td>\n",
       "    </tr>\n",
       "    <tr>\n",
       "      <th>4</th>\n",
       "      <td>5126305</td>\n",
       "      <td>F</td>\n",
       "      <td>Control</td>\n",
       "    </tr>\n",
       "  </tbody>\n",
       "</table>\n",
       "</div>"
      ],
      "text/plain": [
       "   client_id gendr variation\n",
       "0     836976     U      Test\n",
       "1    2304905     U   Control\n",
       "2    1439522     U      Test\n",
       "3    1562045     M      Test\n",
       "4    5126305     F   Control"
      ]
     },
     "execution_count": 56,
     "metadata": {
     },
     "output_type": "execute_result"
    }
   ],
   "source": [
    "df_final_demo_gendr_var1 = df_final_demo[['client_id', 'gendr']]\n",
    "df_final_demo_gendr_var1\n",
    "\n",
    "df_final_demo_gendr_var2 = web_data_summary_experiment[['client_id', 'variation']]\n",
    "df_final_demo_gendr_var2\n",
    "\n",
    "merged_gendr_var = pd.merge(df_final_demo_gendr_var1, df_final_demo_gendr_var2, on='client_id', how='inner')\n",
    "merged_gendr_var.head()\n",
    "\n"
   ]
  },
  {
   "cell_type": "code",
   "execution_count": 57,
   "metadata": {
    "collapsed": false
   },
   "outputs": [
    {
     "data": {
      "text/plain": [
       "<Axes: xlabel='gendr', ylabel='count'>"
      ]
     },
     "execution_count": 57,
     "metadata": {
     },
     "output_type": "execute_result"
    },
    {
     "data": {
      "image/png": "[encoded data removed]",
      "text/plain": [
       "<Figure size 432x288 with 1 Axes>"
      ]
     },
     "execution_count": 57,
     "metadata": {
      "image/png": {
       "height": 261,
       "width": 395
      },
      "needs_background": "light"
     },
     "output_type": "execute_result"
    }
   ],
   "source": [
    "# COUNT OF GENDER OF CLIENTS BASED ON GENDER. IT SEEMS LIKE THE CLIENTS ARE EQUALLY DISTRIBUTED IN 'TEST' AND 'CONTROL'\n",
    "sns.countplot(x='gendr', hue='variation', data=merged_gendr_var)\n"
   ]
  },
  {
   "cell_type": "markdown",
   "metadata": {
    "collapsed": false
   },
   "source": [
    "### **Experiment Evaluation**\n",
    "\n",
    "You are also required to carry out an evaluation of the experiment by answering questions about the design effectiveness, duration and any additional data needs. See the full details below:\n",
    "\n",
    "##### **Design Effectiveness:**\n",
    "\n",
    "- Was the experiment well\\-structured?\n",
    "\n",
    "**Ans:** Yes, the experiment appears to be well\\-structured. It has a clear and defined purpose: to determine whether a new UI and in\\-context prompts can improve customer experience and lead to higher process completion rates. The experiment also has a well\\-defined control group \\(traditional online process\\) and a test group \\(new UI and in\\-context prompts\\). The experiment was conducted over a reasonable timeframe of three months, which should be sufficient to gather meaningful data and insights.\n",
    "\n",
    "- Were clients randomly and equally divided between the old and new designs?\n",
    "\n",
    "**Ans:** Yes. during analysis we observed that the clients were equally divided between old and new design.\n",
    "\n",
    "- Were there any biases?\n",
    "\n",
    "**Ans:**  There are significant amount of Unknown gender type in dataset which can effect the test result. Other than that, there doesn't seem to be any biases since the clients are equally divided and enough period of time was given for the test.\n",
    "\n"
   ]
  },
  {
   "cell_type": "code",
   "execution_count": 0,
   "metadata": {
    "collapsed": false
   },
   "outputs": [
   ],
   "source": [
    "# web_data_summary_experiment.head()\n",
    "# df_final_web_data.to_csv('df_final_web_data1.csv', index=False)\n"
   ]
  },
  {
   "cell_type": "code",
   "execution_count": 3,
   "metadata": {
    "collapsed": false
   },
   "outputs": [
    {
     "ename": "NameError",
     "evalue": "name 'web_data_summary_experiment' is not defined",
     "output_type": "error",
     "traceback": [
      "\u001b[0;31m---------------------------------------------------------------------------\u001b[0m",
      "\u001b[0;31mNameError\u001b[0m                                 Traceback (most recent call last)",
      "\u001b[0;32m/tmp/ipykernel_227/1459187820.py\u001b[0m in \u001b[0;36m<cell line: 4>\u001b[0;34m()\u001b[0m\n\u001b[1;32m      2\u001b[0m \u001b[0;34m\u001b[0m\u001b[0m\n\u001b[1;32m      3\u001b[0m \u001b[0;34m\u001b[0m\u001b[0m\n\u001b[0;32m----> 4\u001b[0;31m \u001b[0mweb_data_summary_experiment\u001b[0m\u001b[0;34m[\u001b[0m\u001b[0mweb_data_summary_experiment\u001b[0m\u001b[0;34m[\u001b[0m\u001b[0;34m'is_confirmed'\u001b[0m\u001b[0;34m]\u001b[0m \u001b[0;34m==\u001b[0m \u001b[0;32mTrue\u001b[0m\u001b[0;34m]\u001b[0m\u001b[0;34m.\u001b[0m\u001b[0mcount\u001b[0m\u001b[0;34m(\u001b[0m\u001b[0;34m)\u001b[0m\u001b[0;34m\u001b[0m\u001b[0;34m\u001b[0m\u001b[0m\n\u001b[0m\u001b[1;32m      5\u001b[0m \u001b[0;34m\u001b[0m\u001b[0m\n\u001b[1;32m      6\u001b[0m \u001b[0;31m# web_data_summary_experiment\u001b[0m\u001b[0;34m\u001b[0m\u001b[0;34m\u001b[0m\u001b[0m\n",
      "\u001b[0;31mNameError\u001b[0m: name 'web_data_summary_experiment' is not defined"
     ]
    }
   ],
   "source": [
    "# df_final_demo.head()\n",
    "\n",
    "\n",
    "web_data_summary_experiment[web_data_summary_experiment['is_confirmed'] == True].count()\n",
    "\n",
    "# web_data_summary_experiment"
   ]
  },
  {
   "cell_type": "markdown",
   "metadata": {
    "collapsed": false
   },
   "source": [
    "<h2> Hypothesis Testing"
   ]
  },
  {
   "cell_type": "markdown",
   "metadata": {
    "collapsed": false
   },
   "source": [
    "1. **Completion Rate**\n",
    "\n",
    "Null Hypothesis H0:\n",
    "\n",
    "\n",
    "The new design \\(Test group\\) had a higher completion rate compared to the old design \\(Control group\\),  differences observed are not statistically significant.\n",
    "The 2 independent samples have identical average \\(expected\\) values\n",
    "\n",
    "Alternative Hypothesis H1:\n",
    "\n",
    "The new design \\(Test group\\) had a higher completion rate compared to the old design \\(Control group\\), and this difference is statistically significant\n",
    "\n",
    "significance level, p-value, the statistical test prerequisites α = 0,05\n",
    "\n"
   ]
  },
  {
   "cell_type": "code",
   "execution_count": 0,
   "metadata": {
    "collapsed": false
   },
   "outputs": [
   ],
   "source": [
    "def ind_testing(data1, data2):\n",
    "    '''Defines a fonction that calculates the T-test for the means of two independent samples of scores\n",
    "     the null hypothesis that 2 independent samples have identical average (expected) values. \n",
    "     This fonction assumes that the populations have different variances by default\n",
    "      Take as paramaters 2 Data Frames '''\n",
    "    pvalue = ttest_ind(data1, data2, axis=0, equal_var=False, alternative='two-sided').pvalue\n",
    "    stat = ttest_ind(data1, data2, axis=0, equal_var=False, alternative='two-sided').statistic\n",
    "    print(f\"TtestResult statistic : {stat}\")\n",
    "    print(f\"TtestResult pvalue: {pvalue}\")\n",
    "    if pvalue < 0.05:\n",
    "        print(\"We reject the Null Hypothesis\")\n",
    "    else:\n",
    "        print(\"We can`t reject the Null Hypothesis\")\n",
    "    return  stat, pvalue"
   ]
  },
  {
   "cell_type": "code",
   "execution_count": 0,
   "metadata": {
    "collapsed": false
   },
   "outputs": [
   ],
   "source": [
    "c_data = web_data_summary_experiment.loc[web_data_summary_experiment[\"variation\"] == \"Control\"][\"is_confirmed\"]\n",
    "t_data = web_data_summary_experiment.loc[web_data_summary_experiment[\"variation\"] == \"Test\"][\"is_confirmed\"]\n",
    "print(f\"Size Group 'Clients Test Version':  {t_data .count()}\")\n",
    "print(f\"Size Group 'Clients Control Version' {c_data .count()}\")\n",
    "print(f\"Average Confirm'Clients Test Version' {t_data .mean().round(4)}\")\n",
    "print(f\"Average Confirm 'Clients Control Version' {c_data .mean().round(4)}\")"
   ]
  },
  {
   "cell_type": "code",
   "execution_count": 0,
   "metadata": {
    "collapsed": false
   },
   "outputs": [
   ],
   "source": [
    "ind_testing(c_data, t_data)"
   ]
  },
  {
   "cell_type": "markdown",
   "metadata": {
    "collapsed": false
   },
   "source": [
    "1. **Completion Rate using Two Proportions Z\\-test**\n",
    "\n",
    "Two proportion z-test allows to compare two proportions to see if they are the same. \n",
    "Null Hupotthesis H0:\n",
    "The null hypothesis for the test is that the proportions of clients who confirmed in the Vanguard 'test version' and the 'control version' are the same. \n",
    "\n",
    "Alternative Hypothesis H1\n",
    "The alternate hypothesis (H1) for the test is that the proportions of clients who confirmed in the Vanguard 'test version' and the 'control version' are not the same\n",
    "\n"
   ]
  },
  {
   "cell_type": "code",
   "execution_count": 0,
   "metadata": {
    "collapsed": false
   },
   "outputs": [
   ],
   "source": [
    "#z-test (two proportions)\n",
    "\n",
    "from statsmodels.stats.proportion import proportions_ztest\n",
    "\n",
    "# Count of successes (True values) and total number of observations for Control group\n",
    "c_success = c_data.sum()\n",
    "c_total = len(c_data)\n",
    "\n",
    "# Count of successes (True values) and total number of observations for Test group\n",
    "t_success = t_data.sum()\n",
    "t_total = len(t_data)\n",
    "\n",
    "\n",
    "stat, p_value = proportions_ztest([c_success, t_success], [c_total, t_total])\n",
    "print(f'Z-statistic: {stat}')\n",
    "print(f'Z-test P-value: {p_value}')\n",
    "if p_value < 0.05:\n",
    "    print(\"Reject the null hypothesis - There is a significant difference between groups.\")\n",
    "else:\n",
    "    print(\"Fail to reject the null hypothesis - There is no significant difference between groups.\")\n"
   ]
  },
  {
   "cell_type": "markdown",
   "metadata": {
    "collapsed": false
   },
   "source": [
    "We reject the null hypothesis. The new design (Test group)  had a higher completion rate compared to the old design (Control group), and this difference is statistically significant\n",
    "\n"
   ]
  },
  {
   "cell_type": "markdown",
   "metadata": {
    "collapsed": false
   },
   "source": [
    "2. **''''''**\n",
    "\n"
   ]
  },
  {
   "cell_type": "code",
   "execution_count": 0,
   "metadata": {
    "collapsed": false
   },
   "outputs": [
   ],
   "source": [
    "Confirm_Control = web_data_summary_experiment[web_data_summary_experiment['variation'] == 'Control']\n",
    "Confirm_Control.count()"
   ]
  },
  {
   "cell_type": "code",
   "execution_count": 0,
   "metadata": {
    "collapsed": false
   },
   "outputs": [
   ],
   "source": [
    "Confirm_Test = web_data_summary_experiment[web_data_summary_experiment['variation'] == 'Test']['variation'].count()"
   ]
  },
  {
   "cell_type": "code",
   "execution_count": 0,
   "metadata": {
    "collapsed": false
   },
   "outputs": [
   ],
   "source": [
    "# increase_rate = Confirm_Control / "
   ]
  },
  {
   "cell_type": "markdown",
   "metadata": {
    "collapsed": false
   },
   "source": [
    "3. **Other Hypothesis**\n",
    "\n",
    "Null Hypothesis H0:\n",
    "\n",
    "The average age of clients engaging with the new process is the same as those engaging with the old process \\(the samples are drawn from populations with the same population means\\)\n",
    "\n",
    "Alternative Hypothesis H1:\n",
    "\n",
    "The average age of clients engaging with the new process is not the same as those engaging with the old process \\(the samples are drawn from populations with different population means\\)\n",
    "\n",
    "significance level, p-value,\n",
    "the statistical test prerequisites α = 0,05 confidence_interval(confidence_level=0.95)\n",
    "\n"
   ]
  },
  {
   "cell_type": "code",
   "execution_count": 0,
   "metadata": {
    "collapsed": false
   },
   "outputs": [
   ],
   "source": [
    "client_information_experiment.head()"
   ]
  },
  {
   "cell_type": "code",
   "execution_count": 0,
   "metadata": {
    "collapsed": false
   },
   "outputs": [
   ],
   "source": [
    "client_information_experiment.shape"
   ]
  },
  {
   "cell_type": "code",
   "execution_count": 0,
   "metadata": {
    "collapsed": false
   },
   "outputs": [
   ],
   "source": [
    "client_age_test = client_information_experiment.loc[client_information_experiment[\"variation\"] == \"Test\"][\"clnt_age\"]\n",
    "client_age_control= client_information_experiment.loc[client_information_experiment[\"variation\"] == \"Control\"][\"clnt_age\"]\n",
    "\n",
    "print(f\"Size Group 'Clients Test Version':  {client_age_test.count()}\")\n",
    "print(f\"Size Group 'Clients Control Version' {client_age_control.count()}\")\n",
    "print(f\"Average Age'Clients Test Version' {client_age_test.mean().round(2)}\")\n",
    "print(f\"Average Age 'Clients Control Version' {client_age_control.mean().round(2)}\")"
   ]
  },
  {
   "cell_type": "code",
   "execution_count": 0,
   "metadata": {
    "collapsed": false,
    "scrolled": true
   },
   "outputs": [
   ],
   "source": [
    "ind_testing(client_age_test, client_age_control) #ttest_ind"
   ]
  },
  {
   "cell_type": "code",
   "execution_count": 0,
   "metadata": {
    "collapsed": false
   },
   "outputs": [
   ],
   "source": [
   ]
  },
  {
   "cell_type": "code",
   "execution_count": 0,
   "metadata": {
    "collapsed": false
   },
   "outputs": [
   ],
   "source": [
   ]
  },
  {
   "cell_type": "markdown",
   "metadata": {
    "collapsed": false
   },
   "source": [
    "We reject the Null Hypothesis that  \"The average age of clients engaging with the new process is the same as those engaging with the old process \\(the samples are drawn from populations with the same population means\\)\n",
    "\n",
    "Nevertheless, we can note that this difference between averages is minimal:\n",
    "\n",
    "Average Age Clients Test Group 47.16\n",
    "Average Age Clients Control Group 47.50\n",
    "\n"
   ]
  },
  {
   "cell_type": "markdown",
   "metadata": {
    "collapsed": false
   },
   "source": [
    "3) Other Hypothesis - Number of Errors\n",
    "Null Hypothesis H0:\n",
    "The number of errors among clients engaging with the new process is the same as those engaging with the old process (the samples are drawn from populations with the same population means)\n",
    "\n",
    "Alternative Hypothesis H1:\n",
    "The number of errors among clients engaging with the new process is  not the same as those engaging with the old process (the samples are not drawn from populations with the same population means)\n",
    "\n",
    "significance level, p-value, \n",
    "the statistical test prerequisites α = 0,05 confidence_interval(confidence_level=0.95)\n",
    "\n"
   ]
  },
  {
   "cell_type": "code",
   "execution_count": 0,
   "metadata": {
    "collapsed": false,
    "scrolled": true
   },
   "outputs": [
   ],
   "source": [
    "c_error = web_data_summary_experiment.loc[web_data_summary_experiment[\"variation\"] == \"Control\"][\"error_count\"]\n",
    "t_error = web_data_summary_experiment.loc[web_data_summary_experiment[\"variation\"] == \"Test\"][\"error_count\"]\n",
    "print(f\"Size Group 'Clients Test Version':  {t_error .count()}\")\n",
    "print(f\"Size Group 'Clients Control Version' {c_error .count()}\")\n",
    "print(f\"Average Number of Errors 'Clients Test Version' {t_error .mean().round(4)}\")\n",
    "print(f\"Average Number of Errors 'Clients Control Version' {c_error .mean().round(4)}\")"
   ]
  },
  {
   "cell_type": "code",
   "execution_count": 0,
   "metadata": {
    "collapsed": false,
    "scrolled": true
   },
   "outputs": [
   ],
   "source": [
    "ind_testing(c_error, t_error)"
   ]
  },
  {
   "cell_type": "code",
   "execution_count": 0,
   "metadata": {
    "collapsed": false
   },
   "outputs": [
   ],
   "source": [
    "c_conf_number = web_data_summary_experiment.loc[web_data_summary_experiment[\"variation\"] == \"Control\"][\"no_of_confirms\"]\n",
    "t_conf_number = web_data_summary_experiment.loc[web_data_summary_experiment[\"variation\"] == \"Test\"][\"no_of_confirms\"]\n",
    "print(f\"Size Group 'Clients Test Version':  {t_conf_number .count()}\")\n",
    "print(f\"Size Group 'Clients Control Version' {c_conf_number .count()}\")\n",
    "print(f\"Average Number of Confirms 'Clients Test Version' {t_conf_number .mean().round(4)}\")\n",
    "print(f\"Average Number of Confirms 'Clients Control Version' {c_conf_number .mean().round(4)}\")\n",
    "\n",
    "ind_testing(c_conf_number, t_conf_number)"
   ]
  },
  {
   "cell_type": "code",
   "execution_count": 0,
   "metadata": {
    "collapsed": false,
    "scrolled": true
   },
   "outputs": [
   ],
   "source": [
    "c_steps_number = web_data_summary_experiment.loc[web_data_summary_experiment[\"variation\"] == \"Control\"][\"number_steps\"]\n",
    "t_steps_number = web_data_summary_experiment.loc[web_data_summary_experiment[\"variation\"] == \"Test\"][\"number_steps\"]\n",
    "print(f\"Size Group 'Clients Test Version':  {t_steps_number .count()}\")\n",
    "print(f\"Size Group 'Clients Control Version' {c_steps_number .count()}\")\n",
    "print(f\"Average Number of Steps 'Clients Test Version' {t_steps_number .mean().round(4)}\")\n",
    "print(f\"Average Number of Steps 'Clients Control Version' {c_steps_number .mean().round(4)}\")\n",
    "\n",
    "ind_testing(c_steps_number, t_steps_number)"
   ]
  },
  {
   "cell_type": "markdown",
   "metadata": {
    "collapsed": false
   },
   "source": [
    "<h2>Preparing Data and Exporting it to use in \"Tableau\""
   ]
  },
  {
   "cell_type": "markdown",
   "metadata": {
    "collapsed": false
   },
   "source": [
   ]
  },
  {
   "cell_type": "code",
   "execution_count": 0,
   "metadata": {
    "collapsed": false
   },
   "outputs": [
   ],
   "source": [
    "with pd.ExcelWriter('test_results.xlsx') as writer:  \n",
    "    test_results2.to_excel(writer, sheet_name='test_results', engine='xlsxwriter')\n",
    "    web_data_summary_experiment_grouped.to_excel(writer, sheet_name='test_resuts_extended', engine='xlsxwriter')\n"
   ]
  },
  {
   "cell_type": "code",
   "execution_count": 0,
   "metadata": {
    "collapsed": false
   },
   "outputs": [
   ],
   "source": [
    "# web_data_summary_experiment.reset_index().to_excel('web_data_summary_experiment2.xlsx', index=False)"
   ]
  },
  {
   "cell_type": "code",
   "execution_count": 0,
   "metadata": {
    "collapsed": false
   },
   "outputs": [
   ],
   "source": [
    "df_final_experiement_clients.head()"
   ]
  },
  {
   "cell_type": "code",
   "execution_count": 0,
   "metadata": {
    "collapsed": false
   },
   "outputs": [
   ],
   "source": [
    "bins = [0, 30, 60, 100]\n",
    "labels = ['13-30', '30-60', '60+']\n",
    "client_information_experiment['age_category'] = pd.cut(client_information_experiment['clnt_age'], bins=bins, labels = labels, right = False)\n",
    "client_information_experiment.reset_index().to_csv('client_information_experiment.csv', index=False)"
   ]
  },
  {
   "cell_type": "code",
   "execution_count": 0,
   "metadata": {
    "collapsed": false
   },
   "outputs": [
   ],
   "source": [
    "web_data_experiment = df_final_web_data.merge(df_final_experiement_clients, on=\"client_id\", how=\"left\")\n",
    "web_data_experiment[\"variation\"] = web_data_experiment[\"variation\"].fillna(\"Unknown\")\n",
    "web_data_experiment.head()"
   ]
  },
  {
   "cell_type": "code",
   "execution_count": 0,
   "metadata": {
    "collapsed": false
   },
   "outputs": [
   ],
   "source": [
    "# web_data_experiment.reset_index().to_csv('df_final_web_data.csv', index=False)"
   ]
  },
  {
   "cell_type": "code",
   "execution_count": 0,
   "metadata": {
    "collapsed": false
   },
   "outputs": [
   ],
   "source": [
    "web_data_clients_info = df_final_web_data.merge(client_information_experiment, on=\"client_id\", how=\"left\")\n",
    "web_data_clients_info[\"variation\"] = web_data_clients_info[\"variation\"].fillna(\"Unknown\")\n",
    "web_data_clients_info[\"gendr\"] = web_data_clients_info[\"gendr\"].fillna(\"U\")\n",
    "web_data_clients_info['age_category'] = web_data_clients_info['age_category'].astype(str).fillna(\"Unknown\")\n",
    "web_data_clients_info.dtypes"
   ]
  },
  {
   "cell_type": "code",
   "execution_count": 0,
   "metadata": {
    "collapsed": false
   },
   "outputs": [
   ],
   "source": [
    "web_data_summary_clients_info = web_data_summary.merge(client_information_experiment, on=\"client_id\", how=\"left\")\n",
    "web_data_summary_clients_info[\"gendr\"] = web_data_summary_clients_info[\"gendr\"].fillna(\"U\")\n",
    "web_data_summary_clients_info[\"variation\"] = web_data_summary_clients_info[\"variation\"].fillna(\"Unknown\")\n",
    "web_data_summary_clients_info['age_category'] = web_data_summary_clients_info['age_category'].astype(str).fillna(\"Unknown\")\n",
    "web_data_summary_clients_info.reset_index().to_csv ('web_data_summary_clients_info.csv', index=False)"
   ]
  },
  {
   "cell_type": "code",
   "execution_count": 0,
   "metadata": {
    "collapsed": false
   },
   "outputs": [
   ],
   "source": [
    "web_data_summary_clients_info.head()"
   ]
  },
  {
   "cell_type": "code",
   "execution_count": 0,
   "metadata": {
    "collapsed": false
   },
   "outputs": [
   ],
   "source": [
   ]
  },
  {
   "cell_type": "code",
   "execution_count": 0,
   "metadata": {
    "collapsed": false
   },
   "outputs": [
   ],
   "source": [
   ]
  },
  {
   "cell_type": "code",
   "execution_count": 0,
   "metadata": {
    "collapsed": false
   },
   "outputs": [
   ],
   "source": [
    "web_data_summary_clients_info.reset_index().to_excel('web_data_summary_clients_info3.csv', index=False)\n"
   ]
  },
  {
   "cell_type": "code",
   "execution_count": 0,
   "metadata": {
    "collapsed": false
   },
   "outputs": [
   ],
   "source": [
   ]
  }
 ],
 "metadata": {
  "kernelspec": {
   "argv": [
    "/usr/bin/python3",
    "-m",
    "ipykernel",
    "--HistoryManager.enabled=False",
    "--matplotlib=inline",
    "-c",
    "%config InlineBackend.figure_formats = set(['retina'])\nimport matplotlib; matplotlib.rcParams['figure.figsize'] = (12, 7)",
    "-f",
    "{connection_file}"
   ],
   "display_name": "Python 3 (system-wide)",
   "env": {
   },
   "language": "python",
   "metadata": {
    "cocalc": {
     "description": "Python 3 programming language",
     "priority": 100,
     "url": "https://www.python.org/"
    }
   },
   "name": "python3",
   "resource_dir": "/ext/jupyter/kernels/python3"
  },
  "language_info": {
   "codemirror_mode": {
    "name": "ipython",
    "version": 3
   },
   "file_extension": ".py",
   "mimetype": "text/x-python",
   "name": "python",
   "nbconvert_exporter": "python",
   "pygments_lexer": "ipython3",
   "version": "3.9.5"
  }
 },
 "nbformat": 4,
 "nbformat_minor": 4
}